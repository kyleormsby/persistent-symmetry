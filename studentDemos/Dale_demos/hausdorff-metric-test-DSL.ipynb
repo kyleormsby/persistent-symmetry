{
 "cells": [
  {
   "cell_type": "markdown",
   "id": "34fa544a",
   "metadata": {},
   "source": [
    "This code uses built-in functions from the Image class in PIL to execute isometries on a given image. It snapshots the lens view after each isometry, then puts those images into a numpy array. It then calculates the persistent homology of the data. For different images, 'lens_sz' and 'intervals' should be adjusted."
   ]
  },
  {
   "cell_type": "code",
   "execution_count": 2,
   "id": "79d8b908",
   "metadata": {},
   "outputs": [],
   "source": [
    "# Imports\n",
    "import numpy as np\n",
    "import math\n",
    "from hausdorff import hausdorff_distance\n",
    "\n",
    "# For image and video manipulation\n",
    "from PIL import Image\n",
    "from PIL import ImageEnhance\n",
    "from PIL import ImageFilter\n",
    "import PIL\n",
    "import glob\n",
    "\n",
    "# Persistent homology\n",
    "from ripser import ripser\n",
    "from persim import plot_diagrams\n",
    "import warnings\n",
    "warnings.filterwarnings(\"ignore\", category=UserWarning)\n",
    "\n",
    "import matplotlib.pyplot as plt\n",
    "%matplotlib inline"
   ]
  },
  {
   "cell_type": "code",
   "execution_count": 63,
   "id": "10d5aa95",
   "metadata": {},
   "outputs": [
    {
     "name": "stdout",
     "output_type": "stream",
     "text": [
      "['images\\\\C1 curly arrow.png', 'images\\\\C1 horsehex.png', 'images\\\\C1 horseshoe.png', 'images\\\\C1 spiral.png', 'images\\\\C1arrows.png', 'images\\\\C1bigarrows.png']\n",
      "['images\\\\C4pinwheel.png', 'images\\\\C4pinwheelEdit.png']\n"
     ]
    }
   ],
   "source": [
    "# Grab image from files\n",
    "c1_names = glob.glob('images/*C1*.png')\n",
    "c4_names = glob.glob('images/*C4*.png')\n",
    "print(c1_names)\n",
    "print(c4_names)\n",
    "img = Image.open(c1_names[5])\n",
    "img = img.convert('L')\n",
    "\n",
    "img2 = Image.open(c1_names[5])\n",
    "img2 = img2.convert('L')\n",
    "img2 = img2.resize((3809*3,1614*3), resample = PIL.Image.Resampling.BOX)\n",
    "\n",
    "img3 = Image.open(c1_names[4])\n",
    "img4 = Image.open(c4_names[1])\n",
    "img4 = img4.convert('L')\n",
    "\n",
    "#img = img.resize((540,331), resample = PIL.Image.Resampling.BOX)\n",
    "#img = ImageEnhance.Sharpness(img.convert('RGB'))\n",
    "#img = img.enhance(0.1)\n",
    "#img = img.filter(ImageFilter.GaussianBlur(1))\n",
    "# with np.printoptions(threshold=np.inf):\n",
    "#     print(np.asarray(img))\n",
    "#img.show()"
   ]
  },
  {
   "cell_type": "code",
   "execution_count": 3,
   "id": "9e2ab019",
   "metadata": {},
   "outputs": [],
   "source": [
    "# wrapper for hausdorff so we can feed it into ripser\n",
    "def hausdorff_wrapper(lensSize, metric='manhattan'):\n",
    "    def second_layer(arrayOne, arrayTwo):\n",
    "        arrayOne = arrayOne.reshape((lensSize,lensSize))\n",
    "        arrayTwo = arrayTwo.reshape((lensSize,lensSize))\n",
    "        return hausdorff_distance(arrayOne, arrayTwo, distance=metric)\n",
    "    return second_layer"
   ]
  },
  {
   "cell_type": "code",
   "execution_count": 5,
   "id": "124094ff",
   "metadata": {},
   "outputs": [],
   "source": [
    "# if you want to store generated images in a file\n",
    "def store_snapshots(image_ls):\n",
    "    counter = 0\n",
    "    for img1 in image_ls:\n",
    "        img1.save(\"images/dataset/\"+str(counter)+\".png\")\n",
    "        counter+=1"
   ]
  },
  {
   "cell_type": "code",
   "execution_count": 6,
   "id": "7f67d61a",
   "metadata": {},
   "outputs": [],
   "source": [
    "# see how many points are persisting\n",
    "def persistingPoints(res,simpDim = 1):\n",
    "    Hn = res['dgms'][simpDim].tolist() # all intervals in simpDim\n",
    "    d = []\n",
    "    for pair in Hn: \n",
    "        d.append(pair[1] - pair[0]) # finding lengths of intervals in Hn\n",
    "    d.sort(reverse = True) # sorting from longest to shortest intervals\n",
    "    print(d[:6])"
   ]
  },
  {
   "cell_type": "markdown",
   "id": "be4f30d9",
   "metadata": {},
   "source": [
    "translation_snapshot() translates the plane by a vector a and returns the lens view afterwards. It takes an image (Image), the lens size (int), and the translation vector (tuple) that shifts the plane in the direction of the vector. "
   ]
  },
  {
   "cell_type": "code",
   "execution_count": 7,
   "id": "46cd23cd",
   "metadata": {},
   "outputs": [],
   "source": [
    "def translation_snapshot(img, lens_sz, a):\n",
    "    (x,y)=a\n",
    "    x=-x #since x and y will shift the crop and not the plane, need to make sure it is going in right direction\n",
    "    (length, height) = img.size\n",
    "    lens_corner_x=length/2.0 - lens_sz/2.0 +x\n",
    "    lens_corner_y=height/2.0 - lens_sz/2.0 +y\n",
    "    ret_img = img.crop((lens_corner_x,lens_corner_y, lens_corner_x+lens_sz, lens_corner_y+lens_sz))\n",
    "    \n",
    "    #make sure didn't fall off of the image\n",
    "    (ret_length, ret_height) = ret_img.size\n",
    "    if (lens_corner_x<0 or lens_corner_y<0 or lens_corner_x+lens_sz>length or lens_corner_y+lens_sz>height):\n",
    "        print(\"I came off the page!\")\n",
    "        return False\n",
    "    return ret_img"
   ]
  },
  {
   "cell_type": "code",
   "execution_count": 8,
   "id": "8f5e4dfe",
   "metadata": {},
   "outputs": [],
   "source": [
    "def fixedIso(img, lens_sz, degree_num, translation_num, zero_translations, lens_crunch = False,rng_seed = 451):\n",
    "    \n",
    "    image_list = []\n",
    "    rng = np.random.default_rng(rng_seed)\n",
    "    \n",
    "    lens_range = ((min(img.size)/math.sqrt(2))-lens_sz)/2.0\n",
    "    degrees = np.linspace(0, 360, degree_num)\n",
    "    intervals_x = np.linspace((-1)*lens_range, lens_range, translation_num)\n",
    "    intervals_y = np.linspace((-1)*lens_range, lens_range, translation_num)\n",
    "    \n",
    "    for d in degrees:\n",
    "        rot = img.rotate(d,resample = PIL.Image.Resampling.NEAREST)\n",
    "        #print(d)\n",
    "        for x in intervals_x:\n",
    "            for y in intervals_y:\n",
    "                if lens_crunch == False:\n",
    "                        image_list.append(translation_snapshot(rot, lens_sz, (x,y)))\n",
    "                else:\n",
    "                        image_list.append(translation_snapshot(rot, lens_sz, (x,y)).resize((math.ceil(lens_sz / crunch_kernel),\n",
    "                                                                                          math.ceil(lens_sz / crunch_kernel)),\n",
    "                                                                                         resample = PIL.Image.Resampling.BOX))\n",
    "\n",
    "    for j in range(zero_translations):\n",
    "        x = rng.integers((-1)*lens_range, lens_range)\n",
    "        y = rng.integers((-1)*lens_range, lens_range)\n",
    "        if lens_crunch == False:\n",
    "                    image_list.append(translation_snapshot(img, lens_sz, (x,y)))\n",
    "        else:\n",
    "                    image_list.append(translation_snapshot(img, lens_sz, (x,y)).resize((math.ceil(lens_sz / crunch_kernel),\n",
    "                                                                                      math.ceil(lens_sz / crunch_kernel)),\n",
    "                                                                                     resample = PIL.Image.Resampling.BOX))\n",
    "    return image_list"
   ]
  },
  {
   "cell_type": "code",
   "execution_count": 9,
   "id": "b563c15f",
   "metadata": {},
   "outputs": [],
   "source": [
    "def transIso(img, lens_sz, degree_num, translation_num, zero_translations, lens_crunch = False,rng_seed = 451):\n",
    "    \n",
    "    image_list = []\n",
    "    rng = np.random.default_rng(rng_seed)\n",
    "    \n",
    "    lens_range = ((min(img.size)/math.sqrt(2))-lens_sz)/2.0\n",
    "    degrees = np.linspace(0, 360, degree_num)\n",
    "    \n",
    "    for d in degrees:\n",
    "        rot = img.rotate(d,resample = PIL.Image.Resampling.NEAREST)\n",
    "        #print(d)\n",
    "        for j in range(translation_num):\n",
    "            x = rng.integers((-1)*lens_range, lens_range)\n",
    "            y = rng.integers((-1)*lens_range, lens_range)\n",
    "            if lens_crunch == False:\n",
    "                    image_list.append(translation_snapshot(rot, lens_sz, (x,y)))\n",
    "            else:\n",
    "                    image_list.append(translation_snapshot(rot, lens_sz, (x,y)).resize((math.ceil(lens_sz / crunch_kernel),\n",
    "                                                                                      math.ceil(lens_sz / crunch_kernel)),\n",
    "                                                                                     resample = PIL.Image.Resampling.BOX))\n",
    "\n",
    "    for j in range(zero_translations):\n",
    "        x = rng.integers((-1)*lens_range, lens_range)\n",
    "        y = rng.integers((-1)*lens_range, lens_range)\n",
    "        if lens_crunch == False:\n",
    "                    image_list.append(translation_snapshot(img, lens_sz, (x,y)))\n",
    "        else:\n",
    "                    image_list.append(translation_snapshot(img, lens_sz, (x,y)).resize((math.ceil(lens_sz / crunch_kernel),\n",
    "                                                                                      math.ceil(lens_sz / crunch_kernel)),\n",
    "                                                                                     resample = PIL.Image.Resampling.BOX))\n",
    "    return image_list"
   ]
  },
  {
   "cell_type": "code",
   "execution_count": 10,
   "id": "7514a5a9",
   "metadata": {},
   "outputs": [],
   "source": [
    "def randIso(img, lens_sz, degree_num, translation_num, zero_translations, lens_crunch = False,rng_seed = 451):\n",
    "    \n",
    "    image_list = []\n",
    "    rng = np.random.default_rng(rng_seed)\n",
    "    \n",
    "    lens_range = ((min(img.size)/math.sqrt(2))-lens_sz)/2.0\n",
    "    degrees = rng.uniform(0.0,360.0, size = degree_num)\n",
    "    j = 0\n",
    "    \n",
    "    for d in degrees:\n",
    "        #print(j)\n",
    "        j = j + 1\n",
    "        rot = img.rotate(d,resample = PIL.Image.Resampling.NEAREST)\n",
    "        x = rng.integers((-1)*lens_range, lens_range)\n",
    "        y = rng.integers((-1)*lens_range, lens_range)\n",
    "        if lens_crunch == False:\n",
    "                    image_list.append(translation_snapshot(rot, lens_sz, (x,y)))\n",
    "        else:\n",
    "                    image_list.append(translation_snapshot(rot, lens_sz, (x,y)).resize((math.ceil(lens_sz / crunch_kernel),\n",
    "                                                                                      math.ceil(lens_sz / crunch_kernel)),\n",
    "                                                                                     resample = PIL.Image.Resampling.BOX))\n",
    "    for k in range(zero_translations):\n",
    "        x = rng.integers((-1)*lens_range, lens_range)\n",
    "        y = rng.integers((-1)*lens_range, lens_range)\n",
    "        if lens_crunch == False:\n",
    "                    image_list.append(translation_snapshot(img, lens_sz, (x,y)))\n",
    "        else:\n",
    "                    image_list.append(translation_snapshot(img, lens_sz, (x,y)).resize((math.ceil(lens_sz / crunch_kernel),\n",
    "                                                                                      math.ceil(lens_sz / crunch_kernel)),\n",
    "                                                                                     resample = PIL.Image.Resampling.BOX))\n",
    "    return image_list"
   ]
  },
  {
   "cell_type": "code",
   "execution_count": 30,
   "id": "ae93b1eb",
   "metadata": {},
   "outputs": [],
   "source": [
    "def imgListToArray(img_list):\n",
    "    data = []\n",
    "    x=0\n",
    "    for i in image_list:\n",
    "        img_arr = np.asarray(i)\n",
    "        data.append(img_arr.reshape(-1))\n",
    "    data = np.array(data)\n",
    "    return data"
   ]
  },
  {
   "cell_type": "code",
   "execution_count": 70,
   "id": "4e565c8e",
   "metadata": {},
   "outputs": [
    {
     "name": "stdout",
     "output_type": "stream",
     "text": [
      "(3600,)\n"
     ]
    }
   ],
   "source": [
    "image_list = transIso(img4, lens_sz = 60, degree_num = 7, translation_num = 1, zero_translations = 0)\n",
    "data = imgListToArray(image_list)\n",
    "# with np.printoptions(threshold=np.inf):\n",
    "#     print(data[0])\n",
    "shaped = data[5].reshape((60,60))\n",
    "imgtest = Image.fromarray(shaped, mode = 'L')\n",
    "print(data[0].shape)\n",
    "imgtest.show()\n",
    "image_list[5].show()"
   ]
  },
  {
   "cell_type": "code",
   "execution_count": 68,
   "id": "68874b56",
   "metadata": {
    "scrolled": false
   },
   "outputs": [
    {
     "name": "stdout",
     "output_type": "stream",
     "text": [
      "[6120.0, 2040.0, 2040.0, 1530.0, 1530.0, 1275.0]\n"
     ]
    },
    {
     "data": {
      "image/png": "[encoded data removed]",
      "text/plain": [
       "<Figure size 400x400 with 1 Axes>"
      ]
     },
     "metadata": {},
     "output_type": "display_data"
    }
   ],
   "source": [
    "image_list = transIso(img, lens_sz = 250, degree_num = 180, translation_num = 3, zero_translations = 150)\n",
    "data = imgListToArray(image_list)\n",
    "res = ripser(data, maxdim=1,  coeff =2, metric = hausdorff_wrapper(250))\n",
    "persistingPoints(res,simpDim = 1)\n",
    "dgms = res['dgms']\n",
    "plt.figure(figsize = (4,4)) \n",
    "plot_diagrams(dgms)"
   ]
  },
  {
   "cell_type": "code",
   "execution_count": 69,
   "id": "d3310645",
   "metadata": {
    "scrolled": false
   },
   "outputs": [
    {
     "name": "stdout",
     "output_type": "stream",
     "text": [
      "[2658.0, 1048.0, 903.0, 891.0, 881.0, 880.0]\n"
     ]
    },
    {
     "data": {
      "image/png": "[encoded data removed]",
      "text/plain": [
       "<Figure size 400x400 with 1 Axes>"
      ]
     },
     "metadata": {},
     "output_type": "display_data"
    }
   ],
   "source": [
    "image_list = transIso(img4, lens_sz = 60, degree_num = 180, translation_num = 3, zero_translations = 150)\n",
    "data = imgListToArray(image_list)\n",
    "res = ripser(data, maxdim=1,  coeff =2, metric = hausdorff_wrapper(60))\n",
    "persistingPoints(res,simpDim = 1)\n",
    "dgms = res['dgms']\n",
    "plt.figure(figsize = (4,4)) \n",
    "plot_diagrams(dgms)"
   ]
  },
  {
   "cell_type": "code",
   "execution_count": 51,
   "id": "c830c0c0",
   "metadata": {},
   "outputs": [],
   "source": [
    "store_snapshots(image_list)"
   ]
  }
 ],
 "metadata": {
  "kernelspec": {
   "display_name": "Python 3 (ipykernel)",
   "language": "python",
   "name": "python3"
  },
  "language_info": {
   "codemirror_mode": {
    "name": "ipython",
    "version": 3
   },
   "file_extension": ".py",
   "mimetype": "text/x-python",
   "name": "python",
   "nbconvert_exporter": "python",
   "pygments_lexer": "ipython3",
   "version": "3.11.4"
  }
 },
 "nbformat": 4,
 "nbformat_minor": 5
}
