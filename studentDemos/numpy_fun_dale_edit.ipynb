{
 "cells": [
  {
   "cell_type": "code",
   "execution_count": 1,
   "id": "79d8b908",
   "metadata": {},
   "outputs": [],
   "source": [
    "import numpy as np\n",
    "from PIL import Image\n",
    "import glob"
   ]
  },
  {
   "cell_type": "code",
   "execution_count": 2,
   "id": "ecabee1e",
   "metadata": {},
   "outputs": [],
   "source": [
    "from ripser import ripser\n",
    "from persim import plot_diagrams\n",
    "\n",
    "import matplotlib.pyplot as plt\n",
    "%matplotlib inline"
   ]
  },
  {
   "cell_type": "code",
   "execution_count": 3,
   "id": "fcaf1df3",
   "metadata": {},
   "outputs": [],
   "source": [
    "img_names = glob.glob('images/*.png')"
   ]
  },
  {
   "cell_type": "code",
   "execution_count": 4,
   "id": "10d5aa95",
   "metadata": {},
   "outputs": [],
   "source": [
    "img = Image.open(img_names[0])\n",
    "#img.show()"
   ]
  },
  {
   "cell_type": "markdown",
   "id": "be4f30d9",
   "metadata": {},
   "source": [
    "The function below takes snapshots of the plane that are translations apart. It takes an image (Image), the lens size (int), and the translation vector (tuple) that shifts the plane in the direction of the vector. The function returns a vector of images. "
   ]
  },
  {
   "cell_type": "code",
   "execution_count": 5,
   "id": "46cd23cd",
   "metadata": {},
   "outputs": [],
   "source": [
    "def translation_snapshot(img, lens_sz, a):\n",
    "    (x,y)=a\n",
    "    x=-x #since x and y will shift the crop and not the plane, need to make sure it is going in right direction\n",
    "    (length, height) = img.size\n",
    "    (lens_length, lens_height) = lens_sz\n",
    "    lens_corner_x=length/2.0 - lens_length/2.0 +x\n",
    "    lens_corner_y=height/2.0 - lens_height/2.0 +y\n",
    "    ret_img = img.crop((lens_corner_x,lens_corner_y, lens_corner_x+lens_length, lens_corner_y+lens_height))\n",
    "        \n",
    "    #make sure didn't fall off of the image\n",
    "    (ret_length, ret_height) = ret_img.size\n",
    "    if (lens_corner_x<0 or lens_corner_y<0 or lens_corner_x+lens_length>length or lens_corner_y+lens_height>height):\n",
    "        print(\"lense went off image!\")\n",
    "        return False\n",
    "    return ret_img\n",
    "\n",
    "# returns a lense that is a percentage of a certain \"bound\" -- by default, this is half the image size, and the lense\n",
    "# is one eighth of the bounding rectangle. Bound should be consistent across interval and lense generation.\n",
    "# note that the lense can be a rectangle, used to have to be square. Also bound is currently centered around the middle\n",
    "# of the image as a consequence of the translation_snapshot function, this should propably be changed.\n",
    "def lense_sizer(img, bound =.5, lense_percentage=.125):\n",
    "    (length, height) = img.size\n",
    "    length = length * bound * lense_percentage\n",
    "    height = height * bound * lense_percentage\n",
    "    return (length, height)\n",
    "    \n",
    "# creates x and y intervals for the lense to travel across; these intervals are adjacent with no overlap and stay within\n",
    "# the bounding rectangle. We may want to have overlap or gaps between the intervals if it makes better data.\n",
    "def interval_sizer(img, lense_size, bound = .5):\n",
    "    (length, height) = img.size\n",
    "    (lense_length, lense_height) = lense_size\n",
    "    \n",
    "    intervalx = np.arange(bound * length * -0.5, bound * length * 0.5  ,lense_length)\n",
    "    intervaly = np.arange(bound * height * -0.5, bound * height * 0.5  ,lense_height)\n",
    "    \n",
    "    return (intervalx, intervaly)"
   ]
  },
  {
   "cell_type": "code",
   "execution_count": 6,
   "id": "0b3e4f3a",
   "metadata": {},
   "outputs": [],
   "source": [
    "image_list = []\n",
    "lens_sz = lense_sizer(img, .70, .25)\n",
    "# note that linspace creates 10 even intervals, while arange creates intervals of distance 10 (given 10 as last arg)\n",
    "degrees = np.arange(0, 360, 10)\n",
    "(intervalx, intervaly) = interval_sizer(img, lens_sz, .75)\n",
    "for d in degrees:\n",
    "    rot = img.rotate(d)\n",
    "    for x in intervalx:\n",
    "        for y in intervaly:\n",
    "            image_list.append(translation_snapshot(rot, lens_sz, (x,y)))"
   ]
  },
  {
   "cell_type": "code",
   "execution_count": 7,
   "id": "21a138e1",
   "metadata": {},
   "outputs": [
    {
     "name": "stdout",
     "output_type": "stream",
     "text": [
      "<PIL.Image.Image image mode=RGBA size=34x34 at 0x267312EEB10>\n"
     ]
    }
   ],
   "source": [
    "counter = 0\n",
    "\n",
    "# lense size seems to be off right now\n",
    "print(image_list[0])\n",
    "\n",
    "for img in image_list:\n",
    "    img.save(\"images/dataset/\"+str(counter)+\".png\")\n",
    "    counter+=1"
   ]
  },
  {
   "cell_type": "code",
   "execution_count": null,
   "id": "3e316a2e",
   "metadata": {},
   "outputs": [],
   "source": []
  }
 ],
 "metadata": {
  "kernelspec": {
   "display_name": "Python 3 (ipykernel)",
   "language": "python",
   "name": "python3"
  },
  "language_info": {
   "codemirror_mode": {
    "name": "ipython",
    "version": 3
   },
   "file_extension": ".py",
   "mimetype": "text/x-python",
   "name": "python",
   "nbconvert_exporter": "python",
   "pygments_lexer": "ipython3",
   "version": "3.11.3"
  }
 },
 "nbformat": 4,
 "nbformat_minor": 5
}
