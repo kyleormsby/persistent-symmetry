{
 "cells": [
  {
   "cell_type": "markdown",
   "id": "34fa544a",
   "metadata": {},
   "source": [
    "# Imports and images"
   ]
  },
  {
   "cell_type": "code",
   "execution_count": 2,
   "id": "79d8b908",
   "metadata": {
    "editable": true,
    "slideshow": {
     "slide_type": ""
    },
    "tags": []
   },
   "outputs": [],
   "source": [
    "# Imports\n",
    "import numpy as np\n",
    "import math\n",
    "from hausdorff import hausdorff_distance\n",
    "from sklearn.metrics import pairwise_distances\n",
    "from sklearn.metrics.pairwise import paired_distances\n",
    "from scipy import stats\n",
    "import sklearn.metrics\n",
    "\n",
    "# For image and video manipulation\n",
    "from PIL import Image\n",
    "from PIL import ImageEnhance\n",
    "from PIL import ImageFilter\n",
    "import PIL\n",
    "import glob\n",
    "\n",
    "# Persistent homology\n",
    "from ripser import ripser\n",
    "from persim import plot_diagrams\n",
    "import warnings\n",
    "warnings.filterwarnings(\"ignore\", category=UserWarning)\n",
    "\n",
    "# from gudhi.cover_complex import MapperComplex, GraphInducedComplex, NerveComplex\n",
    "# from gudhi import bottleneck_distance\n",
    "# import gudhi as gd\n",
    "# from tqdm import tqdm\n",
    "# from mpl_toolkits.mplot3d import Axes3D\n",
    "# import networkx as nx\n",
    " \n",
    "\n",
    "import matplotlib.pyplot as plt\n",
    "%matplotlib inline"
   ]
  },
  {
   "cell_type": "code",
   "execution_count": 2,
   "id": "10d5aa95",
   "metadata": {},
   "outputs": [
    {
     "name": "stdout",
     "output_type": "stream",
     "text": [
      "['../images\\\\C1 curly arrow.png', '../images\\\\C1 horsehex.png', '../images\\\\C1 horseshoe.png', '../images\\\\C1 spiral.png', '../images\\\\C1arrows.png', '../images\\\\C1bigarrows.png']\n",
      "['../images\\\\C4pinwheel.png']\n",
      "['../images\\\\testDiag.png', '../images\\\\testPersis.png', '../images\\\\testPersisC2.png']\n"
     ]
    }
   ],
   "source": [
    "# Grab image from files\n",
    "c1_names = glob.glob('../images/*C1*.png')\n",
    "c4_names = glob.glob('../images/*C4*.png')\n",
    "test_name = glob.glob('../images/test*.png')\n",
    "print(c1_names)\n",
    "print(c4_names)\n",
    "print(test_name)"
   ]
  },
  {
   "cell_type": "code",
   "execution_count": null,
   "id": "ffe6d067-ca63-48de-a81e-05b2a561d0f9",
   "metadata": {
    "jupyter": {
     "source_hidden": true
    }
   },
   "outputs": [],
   "source": [
    "img = Image.open(c1_names[5])\n",
    "img = img.convert('L')\n",
    "\n",
    "img2 = Image.open(c1_names[5])\n",
    "img2 = img2.convert('L')\n",
    "img2 = img2.resize((3809*3,1614*3), resample = PIL.Image.Resampling.BOX)\n",
    "\n",
    "arrowimg = Image.open(c1_names[4]).convert('L')\n",
    "img4 = Image.open(c4_names[0])\n",
    "img4 = img4.convert('L')\n",
    "\n",
    "testimg = Image.open(test_name[1]).convert('L')\n",
    "testimg2 = Image.open(test_name[2]).convert('L')\n",
    "testimg3 = Image.open(test_name[0]).convert('L')\n",
    "#img = img.resize((540,331), resample = PIL.Image.Resampling.BOX)\n",
    "#img = ImageEnhance.Sharpness(img.convert('RGB'))\n",
    "#img = img.enhance(0.1)\n",
    "#img = img.filter(ImageFilter.GaussianBlur(1))\n",
    "# with np.printoptions(threshold=np.inf):\n",
    "#     print(np.asarray(img))\n",
    "#img.show()"
   ]
  },
  {
   "cell_type": "markdown",
   "id": "8487266c-ca46-4ded-8616-da18326e9740",
   "metadata": {},
   "source": [
    "# Functions:lens, metrics, misc"
   ]
  },
  {
   "cell_type": "code",
   "execution_count": 3,
   "id": "9e2ab019",
   "metadata": {
    "editable": true,
    "jupyter": {
     "source_hidden": true
    },
    "slideshow": {
     "slide_type": ""
    },
    "tags": []
   },
   "outputs": [],
   "source": [
    "# wrapper for degree weighted metric\n",
    "def degree_wrapper(alphaMod = 1, metric='euclidean'):\n",
    "    def second_layer(arrayOne, arrayTwo):\n",
    "        mod1 = arrayOne[1:].reshape(1, -1)\n",
    "        mod2 = arrayTwo[1:].reshape(1, -1)\n",
    "        d1 = arrayOne[0]\n",
    "        d2 = arrayTwo[0]\n",
    "        \n",
    "        ret = paired_distances(mod1, mod2, metric = metric)\n",
    "        alpha = (180 - abs(abs(d1 - d2) - 180)) / 180\n",
    "        # alpha is a value between 0 and 1; 1 means 180 degrees away, 0 0 degrees away\n",
    "        # current curve is linear; this is probably bad\n",
    "        return ret[0]* (alpha * alphaMod + 1)\n",
    "    return second_layer"
   ]
  },
  {
   "cell_type": "code",
   "execution_count": 4,
   "id": "b5e17c24-9491-48c0-b8b5-90f8b237fb82",
   "metadata": {
    "jupyter": {
     "source_hidden": true
    }
   },
   "outputs": [
    {
     "data": {
      "text/plain": [
       "3.0"
      ]
     },
     "execution_count": 4,
     "metadata": {},
     "output_type": "execute_result"
    }
   ],
   "source": [
    " one = np.array([0, 2, 0, 0])\n",
    " two = np.array([270, 0, 0, 0])\n",
    " degree_wrapper()(one,two)"
   ]
  },
  {
   "cell_type": "code",
   "execution_count": 5,
   "id": "830d3494-e988-4d90-ae23-e2b9f4cea229",
   "metadata": {
    "jupyter": {
     "source_hidden": true
    }
   },
   "outputs": [],
   "source": [
    "# wrapper for hausdorff so we can feed it into ripser\n",
    "def hausdorff_wrapper(lensSize, metric='manhattan'):\n",
    "    (x, y) = lensSize\n",
    "    def second_layer(arrayOne, arrayTwo):        \n",
    "        arrayOne = arrayOne.reshape((y,x))\n",
    "        arrayTwo = arrayTwo.reshape((y,x))\n",
    "        return hausdorff_distance(arrayOne, arrayTwo, distance=metric)\n",
    "    return second_layer"
   ]
  },
  {
   "cell_type": "code",
   "execution_count": 6,
   "id": "22e29a3d",
   "metadata": {
    "jupyter": {
     "source_hidden": true
    }
   },
   "outputs": [],
   "source": [
    "# def hausdorff_test(lensSize, metric='manhattan'):\n",
    "#     (x, y) = lensSize\n",
    "#     def second_layer(arrayOne, arrayTwo):\n",
    "#         arrayOne = arrayOne.reshape((y,x))\n",
    "#         Image.fromarray(arrayOne).show()\n",
    "#         arrayTwo = arrayTwo.reshape((y,x))\n",
    "#         return hausdorff_distance(arrayOne, arrayTwo, distance=metric)\n",
    "#     return second_layer\n",
    "# test_img = img4.crop((0,0,20,30))\n",
    "# test_img.show()\n",
    "# test_arr = np.asarray(test_img)\n",
    "# hausdorff_test((20,30))(test_arr, test_arr)"
   ]
  },
  {
   "cell_type": "code",
   "execution_count": 7,
   "id": "124094ff",
   "metadata": {
    "jupyter": {
     "source_hidden": true
    }
   },
   "outputs": [],
   "source": [
    "# if you want to store generated images in a file\n",
    "def store_snapshots(image_ls):\n",
    "    counter = 0\n",
    "    for img1 in image_ls:\n",
    "        img1.save(\"../images/dataset/\"+str(counter)+\".png\")\n",
    "        counter+=1\n",
    "def store_degree_snapshots(image_ls, lens):\n",
    "    counter = 0\n",
    "    (x, y) = lens\n",
    "    for img1 in image_ls:\n",
    "        arr = img1[1:]\n",
    "        arr = arr.astype(np.int8)\n",
    "        arr = np.reshape(arr, (y,x))\n",
    "        image = Image.fromarray(arr, 'L')\n",
    "        image.save(\"../images/dataset/\"+str(counter)+\".png\")\n",
    "        counter+=1"
   ]
  },
  {
   "cell_type": "code",
   "execution_count": 8,
   "id": "7f67d61a",
   "metadata": {
    "editable": true,
    "jupyter": {
     "source_hidden": true
    },
    "slideshow": {
     "slide_type": ""
    },
    "tags": []
   },
   "outputs": [],
   "source": [
    "# see how many points are persisting\n",
    "def persistingPoints(res,simpDim = 1):\n",
    "    Hn = res['dgms'][simpDim].tolist() # all intervals in simpDim\n",
    "    d = []\n",
    "    for pair in Hn: \n",
    "        d.append(pair[1] - pair[0]) # finding lengths of intervals in Hn\n",
    "    d.sort(reverse = True) # sorting from longest to shortest intervals\n",
    "    print(d[:6])"
   ]
  },
  {
   "cell_type": "markdown",
   "id": "be4f30d9",
   "metadata": {},
   "source": [
    "translation_snapshot() translates the plane by a vector a and returns the lens view afterwards. It takes an image (Image), the lens size (int), and the translation vector (tuple) that shifts the plane in the direction of the vector. "
   ]
  },
  {
   "cell_type": "code",
   "execution_count": 9,
   "id": "46cd23cd",
   "metadata": {
    "jupyter": {
     "source_hidden": true
    }
   },
   "outputs": [],
   "source": [
    "def translation_snapshot(img, lens_sz, a):\n",
    "    (x,y)=a\n",
    "    (lx, ly) = lens_sz\n",
    "    x=-x #since x and y will shift the crop and not the plane, need to make sure it is going in right direction\n",
    "    (length, height) = img.size\n",
    "    lens_corner_x=length/2.0 - lx/2.0 +x\n",
    "    lens_corner_y=height/2.0 - ly/2.0 +y\n",
    "    ret_img = img.crop((lens_corner_x,lens_corner_y, lens_corner_x+lx, lens_corner_y+ly))\n",
    "    \n",
    "    #make sure didn't fall off of the image\n",
    "    (ret_length, ret_height) = ret_img.size\n",
    "#     if (lens_corner_x<0 or lens_corner_y<0 or lens_corner_x+lx>length or lens_corner_y+ly>height):\n",
    "#         print(\"I came off the page!\")\n",
    "#         return False\n",
    "    return ret_img"
   ]
  },
  {
   "cell_type": "code",
   "execution_count": 10,
   "id": "8f5e4dfe",
   "metadata": {
    "jupyter": {
     "source_hidden": true
    }
   },
   "outputs": [],
   "source": [
    "def fixedIso(img, lens_sz, degree_num, translation_num, zero_translations, lens_crunch = False,rng_seed = 451):\n",
    "    \n",
    "    image_list = []\n",
    "    rng = np.random.default_rng(rng_seed)\n",
    "    \n",
    "    lens_range = ((min(img.size)/math.sqrt(2))-lens_sz)/2.0\n",
    "    degrees = np.linspace(0, 360, degree_num)\n",
    "    intervals_x = np.linspace((-1)*lens_range, lens_range, translation_num)\n",
    "    intervals_y = np.linspace((-1)*lens_range, lens_range, translation_num)\n",
    "    \n",
    "    for d in degrees:\n",
    "        rot = img.rotate(d,resample = PIL.Image.Resampling.NEAREST)\n",
    "        #print(d)\n",
    "        for x in intervals_x:\n",
    "            for y in intervals_y:\n",
    "                if lens_crunch == False:\n",
    "                        image_list.append(translation_snapshot(rot, lens_sz, (x,y)))\n",
    "                else:\n",
    "                        image_list.append(translation_snapshot(rot, lens_sz, (x,y)).resize((math.ceil(lens_sz / crunch_kernel),\n",
    "                                                                                          math.ceil(lens_sz / crunch_kernel)),\n",
    "                                                                                         resample = PIL.Image.Resampling.BOX))\n",
    "\n",
    "    for j in range(zero_translations):\n",
    "        x = rng.integers((-1)*lens_range, lens_range)\n",
    "        y = rng.integers((-1)*lens_range, lens_range)\n",
    "        if lens_crunch == False:\n",
    "                    image_list.append(translation_snapshot(img, lens_sz, (x,y)))\n",
    "        else:\n",
    "                    image_list.append(translation_snapshot(img, lens_sz, (x,y)).resize((math.ceil(lens_sz / crunch_kernel),\n",
    "                                                                                      math.ceil(lens_sz / crunch_kernel)),\n",
    "                                                                                     resample = PIL.Image.Resampling.BOX))\n",
    "    return image_list"
   ]
  },
  {
   "cell_type": "code",
   "execution_count": 11,
   "id": "b563c15f",
   "metadata": {
    "jupyter": {
     "source_hidden": true
    }
   },
   "outputs": [],
   "source": [
    "def transIso(img, lens_sz, degree_num, translation_num, zero_translations, lens_crunch = False,rng_seed = 451):\n",
    "    \n",
    "    image_list = []\n",
    "    rng = np.random.default_rng(rng_seed)\n",
    "    \n",
    "    lens_range = ((min(img.size)/math.sqrt(2))-lens_sz)/2.0\n",
    "    degrees = np.linspace(0, 360, degree_num)\n",
    "    \n",
    "    for d in degrees:\n",
    "        rot = img.rotate(d,resample = PIL.Image.Resampling.NEAREST)\n",
    "        #print(d)\n",
    "        for j in range(translation_num):\n",
    "            x = rng.integers((-1)*lens_range, lens_range)\n",
    "            y = rng.integers((-1)*lens_range, lens_range)\n",
    "            if lens_crunch == False:\n",
    "                    image_list.append(translation_snapshot(rot, lens_sz, (x,y)))\n",
    "            else:\n",
    "                    image_list.append(translation_snapshot(rot, lens_sz, (x,y)).resize((math.ceil(lens_sz / crunch_kernel),\n",
    "                                                                                      math.ceil(lens_sz / crunch_kernel)),\n",
    "                                                                                     resample = PIL.Image.Resampling.BOX))\n",
    "\n",
    "    for j in range(zero_translations):\n",
    "        x = rng.integers((-1)*lens_range, lens_range)\n",
    "        y = rng.integers((-1)*lens_range, lens_range)\n",
    "        if lens_crunch == False:\n",
    "                    image_list.append(translation_snapshot(img, lens_sz, (x,y)))\n",
    "        else:\n",
    "                    image_list.append(translation_snapshot(img, lens_sz, (x,y)).resize((math.ceil(lens_sz / crunch_kernel),\n",
    "                                                                                      math.ceil(lens_sz / crunch_kernel)),\n",
    "                                                                                     resample = PIL.Image.Resampling.BOX))\n",
    "    return image_list"
   ]
  },
  {
   "cell_type": "code",
   "execution_count": 12,
   "id": "7514a5a9",
   "metadata": {},
   "outputs": [],
   "source": [
    "def randIso(img, lens_sz, degree_num, translation_num, zero_translations, lens_crunch = False,rng_seed = 451):\n",
    "    \n",
    "    image_list = []\n",
    "    rng = np.random.default_rng(rng_seed)\n",
    "    \n",
    "    lens_range = ((min(img.size)/math.sqrt(2))-max(lens_sz))/2.0\n",
    "    degrees = rng.uniform(0.0,360.0, size = degree_num)\n",
    "    j = 0\n",
    "    \n",
    "    for d in degrees:\n",
    "        #print(j)\n",
    "        j = j + 1\n",
    "        rot = img.rotate(d,resample = PIL.Image.Resampling.NEAREST)\n",
    "        x = rng.integers((-1)*lens_range, lens_range)\n",
    "        y = rng.integers((-1)*lens_range, lens_range)\n",
    "        if lens_crunch == False:\n",
    "                    image_list.append(translation_snapshot(rot, lens_sz, (x,y)))\n",
    "        else:\n",
    "                    image_list.append(translation_snapshot(rot, lens_sz, (x,y)).resize((math.ceil(lens_sz / crunch_kernel),\n",
    "                                                                                      math.ceil(lens_sz / crunch_kernel)),\n",
    "                                                                                     resample = PIL.Image.Resampling.BOX))\n",
    "    for k in range(zero_translations):\n",
    "        x = rng.integers((-1)*lens_range, lens_range)\n",
    "        y = rng.integers((-1)*lens_range, lens_range)\n",
    "        if lens_crunch == False:\n",
    "                    image_list.append(translation_snapshot(img, lens_sz, (x,y)))\n",
    "        else:\n",
    "                    image_list.append(translation_snapshot(img, lens_sz, (x,y)).resize((math.ceil(lens_sz / crunch_kernel),\n",
    "                                                                                      math.ceil(lens_sz / crunch_kernel)),\n",
    "                                                                                     resample = PIL.Image.Resampling.BOX))\n",
    "    return image_list"
   ]
  },
  {
   "cell_type": "code",
   "execution_count": 13,
   "id": "0aa89dda-b668-4ec3-a502-255e6d18ed64",
   "metadata": {},
   "outputs": [],
   "source": [
    "def squareIso(img, lens_sz, square_mod = 0):\n",
    "    \n",
    "    image_list = []\n",
    "\n",
    "    if not square_mod:\n",
    "        lens_range = ((min(img.size)/math.sqrt(2))-max(lens_sz))/2.0\n",
    "    else:\n",
    "        lens_range = square_mod\n",
    "        \n",
    "    for x in np.arange((-1)*lens_range, lens_range, 1):\n",
    "        for y in np.arange((-1)*lens_range, lens_range, 1):\n",
    "            image_list.append(translation_snapshot(img, lens_sz, (x,y)))\n",
    "            \n",
    "    return image_list"
   ]
  },
  {
   "cell_type": "code",
   "execution_count": 14,
   "id": "85687e6b-0b7b-48d2-9907-6be48d67086b",
   "metadata": {
    "editable": true,
    "jupyter": {
     "source_hidden": true
    },
    "slideshow": {
     "slide_type": ""
    },
    "tags": []
   },
   "outputs": [],
   "source": [
    "def slicedIso(img, lens_sz, degree_num, translation_num, zero_translations, lens_crunch = False,rng_seed = 451, center_range = 5):\n",
    "    # here translation num refers to the number of points to rotate around, chosen randomly\n",
    "    \n",
    "    data = []\n",
    "    rng = np.random.default_rng(rng_seed)\n",
    "    \n",
    "    lens_range = math.floor(((min(img.size)/math.sqrt(2))-max(lens_sz))/2.0)\n",
    "    #center_range = math.floor(((min(img.size)/3)-max(lens_sz))/2.0)\n",
    "    # center_range = 30\n",
    "    degree_num = 360 / degree_num\n",
    "    degrees = np.arange(0, 360, degree_num)\n",
    "    w, h = img.size\n",
    "    centerx = math.floor(w / 2.0)\n",
    "    centery = math.floor(h / 2.0)\n",
    "    lx, ly = lens_sz\n",
    "    lens_corner_x=math.floor(centerx - lx/2.0)\n",
    "    lens_corner_y=math.floor(centery - ly/2.0)\n",
    "    zero_rotation = True\n",
    "\n",
    "    if zero_rotation:\n",
    "        for d in degrees:\n",
    "            rot = img.rotate(d,resample = PIL.Image.Resampling.BICUBIC)\n",
    "            rot = rot.crop((lens_corner_x,lens_corner_y, lens_corner_x+lx, lens_corner_y+ly))\n",
    "            img_arr = np.asarray(rot, dtype = np.int16)\n",
    "            img_arr = np.insert(img_arr, 0, d)\n",
    "            data.append(img_arr.reshape(-1))\n",
    "    \n",
    "        temp = img.crop((lens_corner_x,lens_corner_y, lens_corner_x+lx, lens_corner_y+ly))\n",
    "        img_arr = np.asarray(temp, dtype = np.int16)\n",
    "        img_arr = np.insert(img_arr, 0, 0)\n",
    "        data.append(img_arr.reshape(-1))\n",
    "    \n",
    "    for trans in range(translation_num):\n",
    "        x = rng.integers((-1)*center_range, center_range)\n",
    "        y = rng.integers((-1)*center_range, center_range)\n",
    "        for d in degrees:\n",
    "            rot = img.rotate(d,resample = PIL.Image.Resampling.BICUBIC, center = (centerx + x, centery + y))\n",
    "            rot = rot.crop((lens_corner_x,lens_corner_y, lens_corner_x+lx, lens_corner_y+ly))\n",
    "            img_arr = np.asarray(rot, dtype = np.int16)\n",
    "            img_arr = np.insert(img_arr, 0, d)\n",
    "            data.append(img_arr.reshape(-1))\n",
    "        \n",
    "    for j in range(zero_translations):\n",
    "        x = rng.integers((-1)*lens_range, lens_range)\n",
    "        y = rng.integers((-1)*lens_range, lens_range)\n",
    "        if lens_crunch == False:\n",
    "            rot = translation_snapshot(img, lens_sz, (x,y))\n",
    "            img_arr = np.asarray(rot, dtype = np.int16)\n",
    "            img_arr = np.insert(img_arr, 0, 0)\n",
    "            data.append(img_arr.reshape(-1))\n",
    "    return data"
   ]
  },
  {
   "cell_type": "code",
   "execution_count": 15,
   "id": "ae93b1eb",
   "metadata": {},
   "outputs": [],
   "source": [
    "def imgListToArray(image_list, norm = False):\n",
    "    data = []\n",
    "    x=0\n",
    "    for i in image_list:\n",
    "        img_arr = np.asarray(i)\n",
    "        if norm:\n",
    "            img_arr = img_arr / 255\n",
    "        data.append(img_arr.reshape(-1))\n",
    "    data = np.array(data)\n",
    "    return data"
   ]
  },
  {
   "cell_type": "markdown",
   "id": "25460b1c-f319-40f8-81e1-e260f8acce5f",
   "metadata": {},
   "source": [
    "# Tests 1"
   ]
  },
  {
   "cell_type": "code",
   "execution_count": 16,
   "id": "d493b974-3a49-4322-990e-00c2f951304d",
   "metadata": {},
   "outputs": [],
   "source": [
    "def verticalSlice(img, lens_sz, lens_corner_x=0):\n",
    "    w, h = img.size\n",
    "    lx, ly = lens_sz\n",
    "    if not lens_corner_x:\n",
    "        lens_corner_x= (w - lx) / 2\n",
    "    lens_corner_y=0\n",
    "    data = []\n",
    "    while lens_corner_y <= h - ly:\n",
    "        snap = img.crop((lens_corner_x,lens_corner_y, lens_corner_x+lx, lens_corner_y+ly))\n",
    "        data.append(snap)\n",
    "        lens_corner_y = lens_corner_y + 1\n",
    "        \n",
    "    return data"
   ]
  },
  {
   "cell_type": "code",
   "execution_count": 17,
   "id": "b1edd45e-d823-4b91-b6c5-1c2bbfebb537",
   "metadata": {},
   "outputs": [],
   "source": [
    "def horizontalSlice(img, lens_sz, lens_corner_y = 0):\n",
    "    w, h = img.size\n",
    "    lx, ly = lens_sz\n",
    "    lens_corner_y=0 \n",
    "    lens_corner_x=0\n",
    "    data = []\n",
    "    while lens_corner_x <= h - lx:\n",
    "        snap = img.crop((lens_corner_x,lens_corner_y, lens_corner_x+lx, lens_corner_y+ly))\n",
    "        data.append(snap)\n",
    "        lens_corner_x = lens_corner_x + 1\n",
    "        \n",
    "    return data"
   ]
  },
  {
   "cell_type": "code",
   "execution_count": 18,
   "id": "cc5e8aca-de3a-4260-8d57-315f53213719",
   "metadata": {
    "editable": true,
    "slideshow": {
     "slide_type": ""
    },
    "tags": []
   },
   "outputs": [
    {
     "data": {
      "image/png": "[encoded data removed]",
      "text/plain": [
       "<Figure size 640x480 with 1 Axes>"
      ]
     },
     "metadata": {},
     "output_type": "display_data"
    }
   ],
   "source": [
    "testimg2 = Image.open(test_name[2]).convert('L')\n",
    "pimg = testimg2\n",
    "data = verticalSlice(pimg, (50,50))\n",
    "data = imgListToArray(data)\n",
    "plt.figure()\n",
    "plt.imshow(pairwise_distances(data))\n",
    "plt.show()"
   ]
  },
  {
   "cell_type": "code",
   "execution_count": 131,
   "id": "0040d071-c544-4c63-8ad6-812a44f86a6a",
   "metadata": {},
   "outputs": [
    {
     "name": "stdout",
     "output_type": "stream",
     "text": [
      "[8.09207820892334]\n"
     ]
    },
    {
     "data": {
      "image/png": "[encoded data removed]",
      "text/plain": [
       "<Figure size 640x480 with 1 Axes>"
      ]
     },
     "metadata": {},
     "output_type": "display_data"
    }
   ],
   "source": [
    "pimg = testimg2\n",
    "data = verticalSlice(pimg, (30,30))\n",
    "data = imgListToArray(data)\n",
    "output = ripser(data, maxdim = 1, coeff = 2, metric = 'euclidean', do_cocycles = True)\n",
    "persistingPoints(output,simpDim = 1)\n",
    "plt.figure()\n",
    "dgms = output['dgms']\n",
    "plot_diagrams(dgms)"
   ]
  },
  {
   "cell_type": "code",
   "execution_count": 132,
   "id": "c2384bf8-630d-40ad-a29d-89115fdc3065",
   "metadata": {},
   "outputs": [
    {
     "name": "stdout",
     "output_type": "stream",
     "text": [
      "[72, 71]\n",
      "[72, 59]\n",
      "[72, 47]\n",
      "[72, 35]\n",
      "[72, 23]\n",
      "[72, 11]\n",
      "[71, 60]\n",
      "[71, 48]\n",
      "[71, 36]\n",
      "[71, 24]\n",
      "[71, 12]\n",
      "[71, 0]\n",
      "[60, 59]\n",
      "[60, 47]\n",
      "[60, 35]\n",
      "[60, 23]\n",
      "[60, 11]\n",
      "[59, 48]\n",
      "[59, 36]\n",
      "[59, 24]\n",
      "[59, 12]\n",
      "[59, 0]\n",
      "[48, 47]\n",
      "[48, 35]\n",
      "[48, 23]\n",
      "[48, 11]\n",
      "[47, 36]\n",
      "[47, 24]\n",
      "[47, 12]\n",
      "[47, 0]\n",
      "[36, 35]\n",
      "[36, 23]\n",
      "[36, 11]\n",
      "[35, 24]\n",
      "[35, 12]\n",
      "[35, 0]\n",
      "[24, 23]\n",
      "[24, 11]\n",
      "[23, 12]\n",
      "[23, 0]\n",
      "[12, 11]\n",
      "[11, 0]\n",
      "42\n"
     ]
    }
   ],
   "source": [
    "diagrams = output['dgms']\n",
    "cocycles = output['cocycles']\n",
    "D = output['dperm2all']\n",
    "dgm1 = diagrams[1]\n",
    "idx = np.argmax(dgm1[:, 1] - dgm1[:, 0])\n",
    "cocycle = cocycles[1][idx]\n",
    "thresh = dgm1[idx, 0]+1e-5\n",
    "count =  0\n",
    "for k in range(cocycle.shape[0]):\n",
    "    [i, j, val] = cocycle[k, :]\n",
    "    if D[i, j] <= thresh:\n",
    "        print([i,j])\n",
    "        count += 1\n",
    "print (count)"
   ]
  },
  {
   "cell_type": "code",
   "execution_count": 144,
   "id": "cd87a87a-35cf-44fb-b9e9-f209056eef7e",
   "metadata": {
    "editable": true,
    "slideshow": {
     "slide_type": ""
    },
    "tags": []
   },
   "outputs": [
    {
     "data": {
      "image/png": "[encoded data removed]",
      "text/plain": [
       "<Figure size 640x480 with 1 Axes>"
      ]
     },
     "metadata": {},
     "output_type": "display_data"
    }
   ],
   "source": [
    "pimg = testimg2\n",
    "data = horizontalSlice(pimg, (30,30))\n",
    "data = imgListToArray(data)\n",
    "temp = pairwise_distances(data)\n",
    "plt.figure()\n",
    "plt.imshow(temp)\n",
    "plt.show()"
   ]
  },
  {
   "cell_type": "code",
   "execution_count": 145,
   "id": "70446ae7-4e85-4072-b1ac-b18e5045a84f",
   "metadata": {},
   "outputs": [
    {
     "name": "stdout",
     "output_type": "stream",
     "text": [
      "[10.154397964477539]\n"
     ]
    },
    {
     "data": {
      "image/png": "[encoded data removed]",
      "text/plain": [
       "<Figure size 640x480 with 1 Axes>"
      ]
     },
     "metadata": {},
     "output_type": "display_data"
    }
   ],
   "source": [
    "output = ripser(data, maxdim = 1, coeff = 2, metric = 'euclidean', do_cocycles=True)\n",
    "persistingPoints(output,simpDim = 1)\n",
    "plt.figure()\n",
    "dgms = output['dgms']\n",
    "plot_diagrams(dgms)"
   ]
  },
  {
   "cell_type": "code",
   "execution_count": 146,
   "id": "d3a591df-a6c3-4f10-b144-7a818257edb5",
   "metadata": {},
   "outputs": [
    {
     "name": "stdout",
     "output_type": "stream",
     "text": [
      "[65, 64]\n",
      "[65, 49]\n",
      "[65, 34]\n",
      "[65, 19]\n",
      "[65, 4]\n",
      "[64, 50]\n",
      "[64, 35]\n",
      "[64, 20]\n",
      "[64, 5]\n",
      "[50, 49]\n",
      "[50, 34]\n",
      "[50, 19]\n",
      "[50, 4]\n",
      "[49, 35]\n",
      "[49, 20]\n",
      "[49, 5]\n",
      "[35, 34]\n",
      "[35, 19]\n",
      "[35, 4]\n",
      "[34, 20]\n",
      "[34, 5]\n",
      "[20, 19]\n",
      "[20, 4]\n",
      "[19, 5]\n",
      "[5, 4]\n",
      "25\n"
     ]
    }
   ],
   "source": [
    "diagrams = output['dgms']\n",
    "cocycles = output['cocycles']\n",
    "D = output['dperm2all']\n",
    "dgm1 = diagrams[1]\n",
    "idx = np.argmax(dgm1[:, 1] - dgm1[:, 0])\n",
    "cocycle = cocycles[1][idx]\n",
    "thresh = dgm1[idx, 0]+1e-5\n",
    "count =  0\n",
    "for k in range(cocycle.shape[0]):\n",
    "    [i, j, val] = cocycle[k, :]\n",
    "    if D[i, j] <= thresh:\n",
    "        print([i,j])\n",
    "        count += 1\n",
    "print (count)"
   ]
  },
  {
   "cell_type": "markdown",
   "id": "f3166347-8315-4cac-a79e-47525e1b71f0",
   "metadata": {},
   "source": [
    "# squareIso tests"
   ]
  },
  {
   "cell_type": "code",
   "execution_count": 136,
   "id": "56e0fc48-f2fd-4d41-b236-9e25eba68952",
   "metadata": {},
   "outputs": [
    {
     "name": "stdout",
     "output_type": "stream",
     "text": [
      "[10.34710693359375, 7.225370407104492, 6.89996337890625, 6.413087844848633, 6.231088638305664, 6.097103118896484]\n"
     ]
    },
    {
     "data": {
      "image/png": "[encoded data removed]",
      "text/plain": [
       "<Figure size 640x480 with 1 Axes>"
      ]
     },
     "metadata": {},
     "output_type": "display_data"
    }
   ],
   "source": [
    "data = randIso(pimg,(50,50),0,0,400)\n",
    "data = imgListToArray(data, True)\n",
    "data = pairwise_distances(data)\n",
    "output = ripser(data, maxdim = 1, coeff = 2, metric = 'euclidean', \n",
    "                do_cocycles = True, distance_matrix = True)\n",
    "persistingPoints(output,simpDim = 1)\n",
    "plt.figure()\n",
    "dgms = output['dgms']\n",
    "plot_diagrams(dgms)"
   ]
  },
  {
   "cell_type": "code",
   "execution_count": 138,
   "id": "95779408-c465-4ab8-9a8a-b9e0579d19a7",
   "metadata": {},
   "outputs": [
    {
     "name": "stdout",
     "output_type": "stream",
     "text": [
      "[373, 123]\n",
      "[373, 10]\n",
      "[364, 123]\n",
      "[364, 10]\n",
      "[363, 123]\n",
      "[363, 10]\n",
      "[289, 123]\n",
      "[289, 10]\n",
      "[258, 136]\n",
      "[136, 114]\n",
      "10\n"
     ]
    }
   ],
   "source": [
    "diagrams = output['dgms']\n",
    "cocycles = output['cocycles']\n",
    "D = output['dperm2all']\n",
    "dgm1 = diagrams[1]\n",
    "idx = np.argmax(dgm1[:, 1] - dgm1[:, 0])\n",
    "cocycle = cocycles[1][idx]\n",
    "thresh = dgm1[idx, 0]+1e-5\n",
    "count =  0\n",
    "for k in range(cocycle.shape[0]):\n",
    "    [i, j, val] = cocycle[k, :]\n",
    "    if D[i, j] <= thresh:\n",
    "        print([i,j])\n",
    "        count += 1\n",
    "print (count)"
   ]
  },
  {
   "cell_type": "code",
   "execution_count": 25,
   "id": "bdd2a605-071f-47c5-88c4-9addbe35c3f4",
   "metadata": {},
   "outputs": [
    {
     "name": "stdout",
     "output_type": "stream",
     "text": [
      "[564.0, 396.0, 280.0, 136.0, 125.0, 125.0]\n"
     ]
    },
    {
     "data": {
      "image/png": "[encoded data removed]",
      "text/plain": [
       "<Figure size 640x480 with 1 Axes>"
      ]
     },
     "metadata": {},
     "output_type": "display_data"
    }
   ],
   "source": [
    "data = squareIso(pimg,(50,50), 20)\n",
    "data = imgListToArray(data, True)\n",
    "output = ripser(data, maxdim = 1, coeff = 2, metric = 'manhattan',\n",
    "                do_cocycles = True)\n",
    "persistingPoints(output,simpDim = 1)\n",
    "plt.figure()\n",
    "dgms = output['dgms']\n",
    "plot_diagrams(dgms)"
   ]
  },
  {
   "cell_type": "code",
   "execution_count": 26,
   "id": "18849d1e-ddaf-497d-879d-97d48f8bed1c",
   "metadata": {
    "collapsed": true,
    "jupyter": {
     "outputs_hidden": true
    }
   },
   "outputs": [
    {
     "name": "stdout",
     "output_type": "stream",
     "text": [
      "[1478, 1477]\n",
      "[1478, 1465]\n",
      "[1478, 1453]\n",
      "[1478, 1441]\n",
      "[1478, 877]\n",
      "[1478, 865]\n",
      "[1478, 853]\n",
      "[1478, 841]\n",
      "[1478, 277]\n",
      "[1478, 265]\n",
      "[1478, 253]\n",
      "[1478, 241]\n",
      "[1477, 1466]\n",
      "[1477, 1454]\n",
      "[1477, 1442]\n",
      "[1477, 878]\n",
      "[1477, 866]\n",
      "[1477, 854]\n",
      "[1477, 842]\n",
      "[1477, 278]\n",
      "[1477, 266]\n",
      "[1477, 254]\n",
      "[1477, 242]\n",
      "[1466, 1465]\n",
      "[1466, 1453]\n",
      "[1466, 1441]\n",
      "[1466, 877]\n",
      "[1466, 865]\n",
      "[1466, 853]\n",
      "[1466, 841]\n",
      "[1466, 277]\n",
      "[1466, 265]\n",
      "[1466, 253]\n",
      "[1466, 241]\n",
      "[1465, 1454]\n",
      "[1465, 1442]\n",
      "[1465, 878]\n",
      "[1465, 866]\n",
      "[1465, 854]\n",
      "[1465, 842]\n",
      "[1465, 278]\n",
      "[1465, 266]\n",
      "[1465, 254]\n",
      "[1465, 242]\n",
      "[1454, 1453]\n",
      "[1454, 1441]\n",
      "[1454, 877]\n",
      "[1454, 865]\n",
      "[1454, 853]\n",
      "[1454, 841]\n",
      "[1454, 277]\n",
      "[1454, 265]\n",
      "[1454, 253]\n",
      "[1454, 241]\n",
      "[1453, 1442]\n",
      "[1453, 878]\n",
      "[1453, 866]\n",
      "[1453, 854]\n",
      "[1453, 842]\n",
      "[1453, 278]\n",
      "[1453, 266]\n",
      "[1453, 254]\n",
      "[1453, 242]\n",
      "[1442, 1441]\n",
      "[1442, 877]\n",
      "[1442, 865]\n",
      "[1442, 853]\n",
      "[1442, 841]\n",
      "[1442, 277]\n",
      "[1442, 265]\n",
      "[1442, 253]\n",
      "[1442, 241]\n",
      "[1441, 878]\n",
      "[1441, 866]\n",
      "[1441, 854]\n",
      "[1441, 842]\n",
      "[1441, 278]\n",
      "[1441, 266]\n",
      "[1441, 254]\n",
      "[1441, 242]\n",
      "[1438, 1437]\n",
      "[1438, 1425]\n",
      "[1438, 1413]\n",
      "[1438, 1401]\n",
      "[1438, 837]\n",
      "[1438, 825]\n",
      "[1438, 813]\n",
      "[1438, 801]\n",
      "[1438, 237]\n",
      "[1438, 225]\n",
      "[1438, 213]\n",
      "[1438, 201]\n",
      "[1437, 1426]\n",
      "[1437, 1414]\n",
      "[1437, 1402]\n",
      "[1437, 838]\n",
      "[1437, 826]\n",
      "[1437, 814]\n",
      "[1437, 802]\n",
      "[1437, 238]\n",
      "[1437, 226]\n",
      "[1437, 214]\n",
      "[1437, 202]\n",
      "[1426, 1425]\n",
      "[1426, 1413]\n",
      "[1426, 1401]\n",
      "[1426, 837]\n",
      "[1426, 825]\n",
      "[1426, 813]\n",
      "[1426, 801]\n",
      "[1426, 237]\n",
      "[1426, 225]\n",
      "[1426, 213]\n",
      "[1426, 201]\n",
      "[1425, 1414]\n",
      "[1425, 1402]\n",
      "[1425, 838]\n",
      "[1425, 826]\n",
      "[1425, 814]\n",
      "[1425, 802]\n",
      "[1425, 238]\n",
      "[1425, 226]\n",
      "[1425, 214]\n",
      "[1425, 202]\n",
      "[1414, 1413]\n",
      "[1414, 1401]\n",
      "[1414, 837]\n",
      "[1414, 825]\n",
      "[1414, 813]\n",
      "[1414, 801]\n",
      "[1414, 237]\n",
      "[1414, 225]\n",
      "[1414, 213]\n",
      "[1414, 201]\n",
      "[1413, 1402]\n",
      "[1413, 838]\n",
      "[1413, 826]\n",
      "[1413, 814]\n",
      "[1413, 802]\n",
      "[1413, 238]\n",
      "[1413, 226]\n",
      "[1413, 214]\n",
      "[1413, 202]\n",
      "[1402, 1401]\n",
      "[1402, 837]\n",
      "[1402, 825]\n",
      "[1402, 813]\n",
      "[1402, 801]\n",
      "[1402, 237]\n",
      "[1402, 225]\n",
      "[1402, 213]\n",
      "[1402, 201]\n",
      "[1401, 838]\n",
      "[1401, 826]\n",
      "[1401, 814]\n",
      "[1401, 802]\n",
      "[1401, 238]\n",
      "[1401, 226]\n",
      "[1401, 214]\n",
      "[1401, 202]\n",
      "[1398, 1397]\n",
      "[1398, 1385]\n",
      "[1398, 1373]\n",
      "[1398, 1361]\n",
      "[1398, 797]\n",
      "[1398, 785]\n",
      "[1398, 773]\n",
      "[1398, 761]\n",
      "[1398, 197]\n",
      "[1398, 185]\n",
      "[1398, 173]\n",
      "[1398, 161]\n",
      "[1397, 1386]\n",
      "[1397, 1374]\n",
      "[1397, 1362]\n",
      "[1397, 798]\n",
      "[1397, 786]\n",
      "[1397, 774]\n",
      "[1397, 762]\n",
      "[1397, 198]\n",
      "[1397, 186]\n",
      "[1397, 174]\n",
      "[1397, 162]\n",
      "[1386, 1385]\n",
      "[1386, 1373]\n",
      "[1386, 1361]\n",
      "[1386, 797]\n",
      "[1386, 785]\n",
      "[1386, 773]\n",
      "[1386, 761]\n",
      "[1386, 197]\n",
      "[1386, 185]\n",
      "[1386, 173]\n",
      "[1386, 161]\n",
      "[1385, 1374]\n",
      "[1385, 1362]\n",
      "[1385, 798]\n",
      "[1385, 786]\n",
      "[1385, 774]\n",
      "[1385, 762]\n",
      "[1385, 198]\n",
      "[1385, 186]\n",
      "[1385, 174]\n",
      "[1385, 162]\n",
      "[1374, 1373]\n",
      "[1374, 1361]\n",
      "[1374, 797]\n",
      "[1374, 785]\n",
      "[1374, 773]\n",
      "[1374, 761]\n",
      "[1374, 197]\n",
      "[1374, 185]\n",
      "[1374, 173]\n",
      "[1374, 161]\n",
      "[1373, 1362]\n",
      "[1373, 798]\n",
      "[1373, 786]\n",
      "[1373, 774]\n",
      "[1373, 762]\n",
      "[1373, 198]\n",
      "[1373, 186]\n",
      "[1373, 174]\n",
      "[1373, 162]\n",
      "[1362, 1361]\n",
      "[1362, 797]\n",
      "[1362, 785]\n",
      "[1362, 773]\n",
      "[1362, 761]\n",
      "[1362, 197]\n",
      "[1362, 185]\n",
      "[1362, 173]\n",
      "[1362, 161]\n",
      "[1361, 798]\n",
      "[1361, 786]\n",
      "[1361, 774]\n",
      "[1361, 762]\n",
      "[1361, 198]\n",
      "[1361, 186]\n",
      "[1361, 174]\n",
      "[1361, 162]\n",
      "[878, 877]\n",
      "[878, 865]\n",
      "[878, 853]\n",
      "[878, 841]\n",
      "[878, 277]\n",
      "[878, 265]\n",
      "[878, 253]\n",
      "[878, 241]\n",
      "[877, 866]\n",
      "[877, 854]\n",
      "[877, 842]\n",
      "[877, 278]\n",
      "[877, 266]\n",
      "[877, 254]\n",
      "[877, 242]\n",
      "[866, 865]\n",
      "[866, 853]\n",
      "[866, 841]\n",
      "[866, 277]\n",
      "[866, 265]\n",
      "[866, 253]\n",
      "[866, 241]\n",
      "[865, 854]\n",
      "[865, 842]\n",
      "[865, 278]\n",
      "[865, 266]\n",
      "[865, 254]\n",
      "[865, 242]\n",
      "[854, 853]\n",
      "[854, 841]\n",
      "[854, 277]\n",
      "[854, 265]\n",
      "[854, 253]\n",
      "[854, 241]\n",
      "[853, 842]\n",
      "[853, 278]\n",
      "[853, 266]\n",
      "[853, 254]\n",
      "[853, 242]\n",
      "[842, 841]\n",
      "[842, 277]\n",
      "[842, 265]\n",
      "[842, 253]\n",
      "[842, 241]\n",
      "[841, 278]\n",
      "[841, 266]\n",
      "[841, 254]\n",
      "[841, 242]\n",
      "[838, 837]\n",
      "[838, 825]\n",
      "[838, 813]\n",
      "[838, 801]\n",
      "[838, 237]\n",
      "[838, 225]\n",
      "[838, 213]\n",
      "[838, 201]\n",
      "[837, 826]\n",
      "[837, 814]\n",
      "[837, 802]\n",
      "[837, 238]\n",
      "[837, 226]\n",
      "[837, 214]\n",
      "[837, 202]\n",
      "[826, 825]\n",
      "[826, 813]\n",
      "[826, 801]\n",
      "[826, 237]\n",
      "[826, 225]\n",
      "[826, 213]\n",
      "[826, 201]\n",
      "[825, 814]\n",
      "[825, 802]\n",
      "[825, 238]\n",
      "[825, 226]\n",
      "[825, 214]\n",
      "[825, 202]\n",
      "[814, 813]\n",
      "[814, 801]\n",
      "[814, 237]\n",
      "[814, 225]\n",
      "[814, 213]\n",
      "[814, 201]\n",
      "[813, 802]\n",
      "[813, 238]\n",
      "[813, 226]\n",
      "[813, 214]\n",
      "[813, 202]\n",
      "[802, 801]\n",
      "[802, 237]\n",
      "[802, 225]\n",
      "[802, 213]\n",
      "[802, 201]\n",
      "[801, 238]\n",
      "[801, 226]\n",
      "[801, 214]\n",
      "[801, 202]\n",
      "[798, 797]\n",
      "[798, 785]\n",
      "[798, 773]\n",
      "[798, 761]\n",
      "[798, 197]\n",
      "[798, 185]\n",
      "[798, 173]\n",
      "[798, 161]\n",
      "[797, 786]\n",
      "[797, 774]\n",
      "[797, 762]\n",
      "[797, 198]\n",
      "[797, 186]\n",
      "[797, 174]\n",
      "[797, 162]\n",
      "[786, 785]\n",
      "[786, 773]\n",
      "[786, 761]\n",
      "[786, 197]\n",
      "[786, 185]\n",
      "[786, 173]\n",
      "[786, 161]\n",
      "[785, 774]\n",
      "[785, 762]\n",
      "[785, 198]\n",
      "[785, 186]\n",
      "[785, 174]\n",
      "[785, 162]\n",
      "[774, 773]\n",
      "[774, 761]\n",
      "[774, 197]\n",
      "[774, 185]\n",
      "[774, 173]\n",
      "[774, 161]\n",
      "[773, 762]\n",
      "[773, 198]\n",
      "[773, 186]\n",
      "[773, 174]\n",
      "[773, 162]\n",
      "[762, 761]\n",
      "[762, 197]\n",
      "[762, 185]\n",
      "[762, 173]\n",
      "[762, 161]\n",
      "[761, 198]\n",
      "[761, 186]\n",
      "[761, 174]\n",
      "[761, 162]\n",
      "[278, 277]\n",
      "[278, 265]\n",
      "[278, 253]\n",
      "[278, 241]\n",
      "[277, 266]\n",
      "[277, 254]\n",
      "[277, 242]\n",
      "[266, 265]\n",
      "[266, 253]\n",
      "[266, 241]\n",
      "[265, 254]\n",
      "[265, 242]\n",
      "[254, 253]\n",
      "[254, 241]\n",
      "[253, 242]\n",
      "[242, 241]\n",
      "[238, 237]\n",
      "[238, 225]\n",
      "[238, 213]\n",
      "[238, 201]\n",
      "[237, 226]\n",
      "[237, 214]\n",
      "[237, 202]\n",
      "[226, 225]\n",
      "[226, 213]\n",
      "[226, 201]\n",
      "[225, 214]\n",
      "[225, 202]\n",
      "[214, 213]\n",
      "[214, 201]\n",
      "[213, 202]\n",
      "[202, 201]\n",
      "[198, 197]\n",
      "[198, 185]\n",
      "[198, 173]\n",
      "[198, 161]\n",
      "[197, 186]\n",
      "[197, 174]\n",
      "[197, 162]\n",
      "[186, 185]\n",
      "[186, 173]\n",
      "[186, 161]\n",
      "[185, 174]\n",
      "[185, 162]\n",
      "[174, 173]\n",
      "[174, 161]\n",
      "[173, 162]\n",
      "[162, 161]\n",
      "432\n"
     ]
    }
   ],
   "source": [
    "diagrams = output['dgms']\n",
    "cocycles = output['cocycles']\n",
    "D = output['dperm2all']\n",
    "dgm1 = diagrams[1]\n",
    "idx = np.argmax(dgm1[:, 1] - dgm1[:, 0])\n",
    "cocycle = cocycles[1][idx]\n",
    "thresh = dgm1[idx, 0]+1e-5\n",
    "count =  0\n",
    "for k in range(cocycle.shape[0]):\n",
    "    [i, j, val] = cocycle[k, :]\n",
    "    if D[i, j] <= thresh:\n",
    "        print([i,j])\n",
    "        count += 1\n",
    "print (count)"
   ]
  },
  {
   "cell_type": "code",
   "execution_count": 1,
   "id": "dc9fd2dc-c109-4a57-90b2-29bdc26be365",
   "metadata": {},
   "outputs": [
    {
     "ename": "SyntaxError",
     "evalue": "invalid syntax (3368585158.py, line 1)",
     "output_type": "error",
     "traceback": [
      "\u001b[1;36m  Cell \u001b[1;32mIn[1], line 1\u001b[1;36m\u001b[0m\n\u001b[1;33m    function squareIso(img, lens_sz, square_bound)\u001b[0m\n\u001b[1;37m             ^\u001b[0m\n\u001b[1;31mSyntaxError\u001b[0m\u001b[1;31m:\u001b[0m invalid syntax\n"
     ]
    }
   ],
   "source": [
    "function squareIso(img, lens_sz, square_bound)\n",
    "    if square_bound > maximum(size(img)) / 2\n",
    "        lens_range = minimum(size(img))\n",
    "    else\n",
    "        lens_range = square_bound\n",
    "    end\n",
    "    lx::Int64, ly::Int64 = lens_sz\n",
    "    h, w = size(img)\n",
    "    xst::Int64, xend::Int64 = floor(floor(w / 2) - lens_range), floor(floor(w / 2) + lens_range - lx)\n",
    "    yst::Int64, yend::Int64 = floor(floor(h / 2) - lens_range), floor(floor(h / 2) + lens_range - ly)\n",
    "    \n",
    "    data = Array{Gray{N0f8}}(undef, ly, lx, (xend - xst + 1) * (yend - yst + 1))\n",
    "    # print(size(data))\n",
    "    k::Int64 = 1\n",
    "    for x::Int64 = xst : xend\n",
    "        for y::Int64  in yst : yend\n",
    "            # print(y); print(\" \")\n",
    "            # print(x); print(\" \")\n",
    "            data[:,:,k] = @view img[y:y + ly - 1, x : x+ lx - 1]\n",
    "            k+=1\n",
    "            # print(\"$(k) \")\n",
    "        end\n",
    "    end\n",
    "        \n",
    "    return data\n",
    "        \n",
    "end"
   ]
  }
 ],
 "metadata": {
  "kernelspec": {
   "display_name": "Python 3 (ipykernel)",
   "language": "python",
   "name": "python3"
  },
  "language_info": {
   "codemirror_mode": {
    "name": "ipython",
    "version": 3
   },
   "file_extension": ".py",
   "mimetype": "text/x-python",
   "name": "python",
   "nbconvert_exporter": "python",
   "pygments_lexer": "ipython3",
   "version": "3.11.3"
  }
 },
 "nbformat": 4,
 "nbformat_minor": 5
}
