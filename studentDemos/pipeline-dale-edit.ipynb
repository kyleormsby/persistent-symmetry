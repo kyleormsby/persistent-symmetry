{
 "cells": [
  {
   "cell_type": "markdown",
   "id": "764245c8",
   "metadata": {},
   "source": [
    "# Pipeline for creating image (function on $\\mathbb{R}^2$) and finding the persistent homology of its orbit"
   ]
  },
  {
   "cell_type": "code",
   "execution_count": 2,
   "id": "b76e21b0",
   "metadata": {},
   "outputs": [],
   "source": [
    "from ripser import ripser\n",
    "from persim import plot_diagrams\n",
    "import numpy as np\n",
    "from numpy import pi,cos,sin\n",
    "import matplotlib.pyplot as plt\n",
    "import random"
   ]
  },
  {
   "cell_type": "markdown",
   "id": "cc75c11a",
   "metadata": {},
   "source": [
    "### 1) Define your function: \n",
    "should take $(x,y)$ as input and output 0 or 1"
   ]
  },
  {
   "cell_type": "markdown",
   "id": "ea53b2a5",
   "metadata": {},
   "source": [
    "### 2) Graph your function (if you want) "
   ]
  },
  {
   "cell_type": "markdown",
   "id": "94183f07",
   "metadata": {},
   "source": [
    " - image_function is the function you defined in step 1\n",
    " - n_samples is how many points you want to plot (only points that output 1 from your function will be plotted)\n",
    " - x indicates that the x-coordinate of the points plotted will be between -x and x\n",
    " - similarly for y \n",
    " - if x_random == True, the x-coordinates will be chosen randomly, otherwise chosen at particular intervals\n",
    " - similarly for y_random\n"
   ]
  },
  {
   "cell_type": "code",
   "execution_count": 3,
   "id": "b6f06df6",
   "metadata": {},
   "outputs": [],
   "source": [
    "def graph(image_function, x, y, x_random = True, n_samples= 100000, y_random = True):\n",
    "    \n",
    "    if x_random == True:\n",
    "        X = list(2 * x * np.random.random(n_samples) - x) \n",
    "        if y_random == True:\n",
    "            Y = list(2 * y * np.random.random(n_samples) - y) \n",
    "        else:\n",
    "            Y = np.linspace(-y,y,n_samples)      \n",
    "\n",
    "    if x_random == False:\n",
    "        X = np.linspace(-x,x,n_samples)\n",
    "        if y_random == True:\n",
    "            Y = list(2 * y * np.random.random(n_samples) - y) \n",
    "        else:\n",
    "            Y = np.linspace(-y,y,n_samples)   \n",
    "\n",
    "    points = []\n",
    "    for i in range(n_samples):\n",
    "        color = image_function(X[i],Y[i])\n",
    "        if color == 1:\n",
    "            points.append((X[i],Y[i])) \n",
    "        \n",
    "    x_points = []\n",
    "    y_points = []\n",
    "    for i in points: \n",
    "        x_points.append(i[0])\n",
    "        y_points.append(i[1])\n",
    "        \n",
    "    fig = plt.figure(figsize = (10, 7))\n",
    "    ax = plt.axes()\n",
    "    ax.scatter(x_points, y_points)\n",
    "    plt.show()"
   ]
  },
  {
   "cell_type": "markdown",
   "id": "86ded87b",
   "metadata": {},
   "source": [
    "### 2) Create lens"
   ]
  },
  {
   "cell_type": "markdown",
   "id": "031f691e",
   "metadata": {},
   "source": [
    "- num_pixels is the square root of the total number of pixels you want to create\n",
    "- window_sample is the range you want these pixels to take up (e.g. if you chose window_sample = 2, the pixels will be located in $[-1,1]\\times [-1,1]\\in \\mathbb{R}^2$)\n",
    "- pixels is output of get_pixels\n",
    "- image_function is the function you defined in step 1"
   ]
  },
  {
   "cell_type": "code",
   "execution_count": 4,
   "id": "38a40fab",
   "metadata": {},
   "outputs": [],
   "source": [
    "def get_pixels(num_pixels, window_size):\n",
    "    sample = list(np.linspace(-window_size/2, window_size/2, num_pixels))\n",
    "    pixels = []\n",
    "    for i in range(len(sample)):\n",
    "        for j in range(len(sample)):\n",
    "            pixels.append((sample[i],sample[j]))     \n",
    "    return pixels\n",
    "\n",
    "\n",
    "def get_colors(pixels, image_function):\n",
    "    colors = []\n",
    "    for pixel in pixels:\n",
    "        colors.append(image_function(pixel[0],pixel[1]))\n",
    "    return colors   "
   ]
  },
  {
   "cell_type": "markdown",
   "id": "8e9a4cc1",
   "metadata": {},
   "source": [
    "### 3) Generate isometries"
   ]
  },
  {
   "cell_type": "markdown",
   "id": "0fb34840",
   "metadata": {},
   "source": [
    "- n_isos is the number of isometries you want to run\n",
    "- x_translate is how far you want to be able to translate the image on the horizonal axis from the origin\n",
    "- y_translate is how far you want to be able to translate the image on the horizonal axis from the origin"
   ]
  },
  {
   "cell_type": "code",
   "execution_count": 14,
   "id": "4a6d481e",
   "metadata": {},
   "outputs": [],
   "source": [
    "def translation(a,b):\n",
    "    def t_ab(x,y): \n",
    "        return x+a, y+b\n",
    "    return t_ab\n",
    "\n",
    "def rotation(theta):\n",
    "    def r_theta(x,y):\n",
    "        return x * cos(theta) - y * sin(theta), x * sin(theta) + y * cos(theta)\n",
    "    return r_theta\n",
    "\n",
    "def isom(a,b,theta):\n",
    "    def iso(x,y):\n",
    "        r = rotation(theta)\n",
    "        t = translation(a,b)\n",
    "        return t(r(x,y)[0], r(x,y)[1])\n",
    "    return iso\n",
    "\n",
    "def generate_isom(n_isos, x_translate, y_translate):\n",
    "    a = list(2 * x_translate * np.random.random(n_isos) - x_translate) # sampling from (-x,x)\n",
    "    b = list(2 * y_translate * np.random.random(n_isos) - y_translate) # sampling from (-y,y)\n",
    "    theta = list(2 * pi * np.random.random(n_isos)) # sampling from (0, 2pi)\n",
    "\n",
    "    isos = []\n",
    "    isos_inv = []\n",
    "    for i in range(n_isos):\n",
    "        isos.append(isom(a[i], b[i], theta[i]))\n",
    "        isos_inv.append(isom(-1 * a[i],-1 * b[i],2 * pi - theta[i])) \n",
    "    return isos_inv\n",
    "\n",
    "# same function as above, but a fixed radian (already multiplied by pi in function) can be fed in.\n",
    "# 0 for p1, 1 for p2, 2/3 for p3, 1/2 for p4, 1/3 for p6.\n",
    "def generate_isom_fixed_rotation(n_isos, x_translate, y_translate, rotation_rad):\n",
    "    a = list(2 * x_translate * np.random.random(n_isos) - x_translate) # sampling from (-x,x)\n",
    "    b = list(2 * y_translate * np.random.random(n_isos) - y_translate) # sampling from (-y,y)\n",
    "    \n",
    "    theta = []\n",
    "    for j in range(n_isos):\n",
    "        theta.append((j * rotation_rad * pi) % 2 * pi)\n",
    "    \n",
    "    isos = []\n",
    "    isos_inv = []\n",
    "    for i in range(n_isos):\n",
    "        isos.append(isom(a[i], b[i], theta[i]))\n",
    "        isos_inv.append(isom(-1 * a[i],-1 * b[i], theta[i])) \n",
    "    return isos_inv"
   ]
  },
  {
   "cell_type": "markdown",
   "id": "3ee58a98",
   "metadata": {},
   "source": [
    "### 4) View each of these isometries in our lens"
   ]
  },
  {
   "cell_type": "markdown",
   "id": "fff5f1e7",
   "metadata": {},
   "source": [
    " - iso_inv is the output of generate_isom\n",
    " - image_function is the function you defined in step 1\n",
    " - pixels is output of get_pixels"
   ]
  },
  {
   "cell_type": "code",
   "execution_count": 6,
   "id": "d2237061",
   "metadata": {},
   "outputs": [],
   "source": [
    "def new_colors(pixels, iso_inv, image_function):\n",
    "    pixels_inv = []\n",
    "    for pixel in pixels: \n",
    "        pixels_inv.append(iso_inv(pixel[0], pixel[1]))\n",
    "    new_colors = get_colors(pixels_inv, image_function)\n",
    "    return new_colors\n",
    "\n",
    "def matrix_of_images(pixels, isos_inv, image_function):\n",
    "    vectors = []\n",
    "    for i in isos_inv:\n",
    "        vectors.append([new_colors(pixels, i, image_function)])\n",
    "    M = np.concatenate(vectors, axis=0 )\n",
    "    return M"
   ]
  },
  {
   "cell_type": "markdown",
   "id": "77b4e481",
   "metadata": {},
   "source": [
    "### 5) Compute persistent homology"
   ]
  },
  {
   "cell_type": "markdown",
   "id": "2d6612d8",
   "metadata": {},
   "source": [
    "- M is output of matrix_of_images\n",
    "- maxdim is the highest dimesion homology you want to compute\n",
    "- coeff is the field $Z_{coeff}$\n",
    "- output is the output of p_hom"
   ]
  },
  {
   "cell_type": "code",
   "execution_count": 7,
   "id": "ec773acb",
   "metadata": {},
   "outputs": [],
   "source": [
    "def p_hom(M, maxdim, coeff):\n",
    "    output = ripser(M, maxdim = maxdim, coeff = coeff)\n",
    "    return output\n",
    "    \n",
    "def persistent_H1_intervals(output):\n",
    "    H1 = output['dgms'][1].tolist() # all intervals in H1\n",
    "    d = []\n",
    "    for pair in H1: \n",
    "        d.append(pair[1] - pair[0]) # finding lengths of intervals in H1\n",
    "    d.sort(reverse = True) # sorting from longest to shortest intervals\n",
    "    d\n",
    "    return d\n",
    "\n",
    "def plot_dgms(output):\n",
    "    dgms = output['dgms']\n",
    "    fig = plt.figure(figsize = (12, 6))\n",
    "    plot_diagrams(dgms)"
   ]
  },
  {
   "cell_type": "markdown",
   "id": "a7402233",
   "metadata": {},
   "source": [
    "## Let's put it all together!"
   ]
  },
  {
   "cell_type": "code",
   "execution_count": 8,
   "id": "95df9489",
   "metadata": {},
   "outputs": [],
   "source": [
    "def vertical_lines(x,y):\n",
    "    if x % 1 <= 0.1: \n",
    "        res = 1\n",
    "    else:\n",
    "        res = 0\n",
    "    return res  "
   ]
  },
  {
   "cell_type": "code",
   "execution_count": 9,
   "id": "95e5aa4f",
   "metadata": {},
   "outputs": [],
   "source": [
    "def pipeline(image_function, num_pixels, window_size, n_isos, x_translate, y_translate, maxdim, coeff, fixedRadian = -1):\n",
    "    pixels = get_pixels(num_pixels, window_size)\n",
    "    \n",
    "    # added new parameter that will increment rotations by radian amount if set, uses random radians otherwise\n",
    "    # like before, fixedRadian should be a rational number, multiplication by pi is part of the isometry generation\n",
    "    if fixedRadian == -1:\n",
    "        isos_inv = generate_isom(n_isos, x_translate, y_translate)\n",
    "    else:\n",
    "        isos_inv = generate_isom_fixed_rotation(n_isos, x_translate, y_translate, fixedRadian)\n",
    "    M = matrix_of_images(pixels, isos_inv, image_function)\n",
    "    output = p_hom(M, maxdim, coeff)\n",
    "    return output"
   ]
  },
  {
   "cell_type": "code",
   "execution_count": 16,
   "id": "e988a660",
   "metadata": {},
   "outputs": [
    {
     "name": "stderr",
     "output_type": "stream",
     "text": [
      "C:\\Users\\user\\AppData\\Local\\Programs\\Python\\Python311\\Lib\\site-packages\\ripser\\ripser.py:253: UserWarning: The input point cloud has more columns than rows; did you mean to transpose?\n",
      "  warnings.warn(\n"
     ]
    },
    {
     "data": {
      "image/png": "[encoded data removed]",
      "text/plain": [
       "<Figure size 1200x600 with 1 Axes>"
      ]
     },
     "metadata": {},
     "output_type": "display_data"
    }
   ],
   "source": [
    "output = pipeline(vertical_lines, 40, 3.8, 1000, 100, 100, 1, 2)\n",
    "plot_dgms(output)"
   ]
  },
  {
   "cell_type": "code",
   "execution_count": null,
   "id": "2f318580",
   "metadata": {},
   "outputs": [],
   "source": [
    "output = pipeline(vertical_lines, 40, 3.8, 10000, 100, 100, 1, 2)"
   ]
  },
  {
   "cell_type": "code",
   "execution_count": null,
   "id": "06aca043",
   "metadata": {},
   "outputs": [],
   "source": [
    "plot_dgms(output)"
   ]
  },
  {
   "cell_type": "code",
   "execution_count": 15,
   "id": "4768edd0",
   "metadata": {},
   "outputs": [
    {
     "name": "stderr",
     "output_type": "stream",
     "text": [
      "C:\\Users\\user\\AppData\\Local\\Programs\\Python\\Python311\\Lib\\site-packages\\ripser\\ripser.py:253: UserWarning: The input point cloud has more columns than rows; did you mean to transpose?\n",
      "  warnings.warn(\n"
     ]
    },
    {
     "data": {
      "image/png": "[encoded data removed]",
      "text/plain": [
       "<Figure size 1200x600 with 1 Axes>"
      ]
     },
     "metadata": {},
     "output_type": "display_data"
    }
   ],
   "source": [
    "output = pipeline(vertical_lines, 40, 3.8, 1000, 100, 100, 1, 2, 1)\n",
    "plot_dgms(output)"
   ]
  }
 ],
 "metadata": {
  "kernelspec": {
   "display_name": "Python 3 (ipykernel)",
   "language": "python",
   "name": "python3"
  },
  "language_info": {
   "codemirror_mode": {
    "name": "ipython",
    "version": 3
   },
   "file_extension": ".py",
   "mimetype": "text/x-python",
   "name": "python",
   "nbconvert_exporter": "python",
   "pygments_lexer": "ipython3",
   "version": "3.11.3"
  },
  "vscode": {
   "interpreter": {
    "hash": "aee8b7b246df8f9039afb4144a1f6fd8d2ca17a180786b69acc140d282b71a49"
   }
  }
 },
 "nbformat": 4,
 "nbformat_minor": 5
}
