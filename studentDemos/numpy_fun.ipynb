{
 "cells": [
  {
   "cell_type": "code",
   "execution_count": 11,
   "id": "79d8b908",
   "metadata": {},
   "outputs": [],
   "source": [
    "import numpy as np\n",
    "from PIL import Image\n",
    "import glob"
   ]
  },
  {
   "cell_type": "code",
   "execution_count": 2,
   "id": "ecabee1e",
   "metadata": {},
   "outputs": [],
   "source": [
    "from ripser import ripser\n",
    "from persim import plot_diagrams\n",
    "\n",
    "import matplotlib.pyplot as plt\n",
    "%matplotlib inline"
   ]
  },
  {
   "cell_type": "code",
   "execution_count": 139,
   "id": "fcaf1df3",
   "metadata": {},
   "outputs": [],
   "source": [
    "img_names = glob.glob('images/*.png')"
   ]
  },
  {
   "cell_type": "code",
   "execution_count": 142,
   "id": "10d5aa95",
   "metadata": {},
   "outputs": [],
   "source": [
    "img = Image.open(img_names[0])\n",
    "img.show()"
   ]
  },
  {
   "cell_type": "markdown",
   "id": "be4f30d9",
   "metadata": {},
   "source": [
    "The function below takes snapshots of the plane that are translations apart. It takes an image (Image), the lens size (int), and the translation vector (tuple) that shifts the plane in the direction of the vector. The function returns a vector of images. "
   ]
  },
  {
   "cell_type": "code",
   "execution_count": 144,
   "id": "46cd23cd",
   "metadata": {},
   "outputs": [],
   "source": [
    "def translation_snapshot(img, lens_sz, a):\n",
    "    (x,y)=a\n",
    "    x=-x #since x and y will shift the crop and not the plane, need to make sure it is going in right direction\n",
    "    (length, height) = img.size\n",
    "    lens_corner_x=length/2.0 - lens_sz/2.0 +x\n",
    "    lens_corner_y=height/2.0 - lens_sz/2.0 +y\n",
    "    ret_img = img.crop((lens_corner_x,lens_corner_y, lens_corner_x+lens_sz, lens_corner_y+lens_sz))\n",
    "    \n",
    "    #make sure didn't fall off of the image\n",
    "    (ret_length, ret_height) = ret_img.size\n",
    "    if (lens_corner_x<0 or lens_corner_y<0 or lens_corner_x+lens_sz>length or lens_corner_y+lens_sz>height):\n",
    "        return False\n",
    "    return ret_img"
   ]
  },
  {
   "cell_type": "code",
   "execution_count": 147,
   "id": "0b3e4f3a",
   "metadata": {},
   "outputs": [],
   "source": [
    "image_list = []\n",
    "lens_sz = 60\n",
    "degrees = np.linspace(0, 360, 10)\n",
    "intervals = np.linspace(-30, 30, 10)\n",
    "for d in degrees:\n",
    "    rot = img.rotate(d)\n",
    "    for x in intervals:\n",
    "        for y in intervals:\n",
    "            image_list.append(translation_snapshot(rot, lens_sz, (x,y)))"
   ]
  },
  {
   "cell_type": "code",
   "execution_count": 149,
   "id": "21a138e1",
   "metadata": {},
   "outputs": [],
   "source": [
    "counter = 0\n",
    "for img in image_list:\n",
    "    img.save(\"images/dataset/\"+str(counter)+\".png\")\n",
    "    counter+=1"
   ]
  },
  {
   "cell_type": "code",
   "execution_count": null,
   "id": "3e316a2e",
   "metadata": {},
   "outputs": [],
   "source": []
  }
 ],
 "metadata": {
  "kernelspec": {
   "display_name": "Python 3 (ipykernel)",
   "language": "python",
   "name": "python3"
  },
  "language_info": {
   "codemirror_mode": {
    "name": "ipython",
    "version": 3
   },
   "file_extension": ".py",
   "mimetype": "text/x-python",
   "name": "python",
   "nbconvert_exporter": "python",
   "pygments_lexer": "ipython3",
   "version": "3.8.16"
  }
 },
 "nbformat": 4,
 "nbformat_minor": 5
}
