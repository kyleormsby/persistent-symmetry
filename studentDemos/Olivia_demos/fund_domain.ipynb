{
 "cells": [
  {
   "cell_type": "markdown",
   "id": "5ffce3cd",
   "metadata": {},
   "source": [
    "# Geodesics of $E(2) \\ / \\ \\Gamma$ for different wallpaper groups $\\Gamma$"
   ]
  },
  {
   "cell_type": "markdown",
   "id": "e5f07c05",
   "metadata": {},
   "source": [
    "Let $E(2)$ be the group of orientation-preserving isometries on the Euclidean plane $E^2$. In this notebook, we study periodic tilings of $E^2$ by nonoverlapping shapes with no gaps. For a tiling of $E^2$, we define its symmetry group $\\Gamma\\subseteq E(2)$ to be the subgroup of isometries that map the tiling to itself. \n",
    "\n",
    "The **point group** of $\\Gamma$ is $\\Gamma_0 = \\{\\rho_{\\theta}\\ | \\ (a,\\theta)\\in \\Gamma \\text{ for some } a \\in \\mathbb{R}^2\\}$\n",
    "\n",
    "The **lattice** of $\\Gamma$ is $\\Gamma_L = \\{a\\in \\mathbb{R}^2\\ | \\ (a,0)\\in \\Gamma\\}$ \n",
    "\n",
    "If $\\Gamma$ is the symmetry group of a tiling, one can show that:\n",
    "1. $\\Gamma_0\\in \\{C_1,C_2,C_3,C_4,C_6\\}$ where $C_n = \\{\\rho_\\theta \\ | \\ \\theta = \\frac{i \\cdot 2 \\pi}{n} \\text{ for } i = 0,1,2,\\ldots, n-1\\}$ (we refer to these as the five wallpaper groups).\n",
    "2. There exists linearly independent $a,b\\in \\mathbb{R}^2$ such that $\\Gamma_L=\\{ma+nb \\ | \\ m,n\\in \\mathbb{Z}\\}$ (we refer to $a$ and $b$ as the lattice generators of $\\Gamma$).\n",
    "\n",
    "For a tiling with symmetry group $\\Gamma$, we can build 3-dimensional parameterization of $E(2)\\ / \\ \\Gamma$ that depends on the wallpaper group and the lattice generators. This notebook explores how to define distance on these parameterizations and how this can be used to study the homology of the parameterized space."
   ]
  },
  {
   "cell_type": "code",
   "execution_count": 15,
   "id": "c9718b9c",
   "metadata": {},
   "outputs": [],
   "source": [
    "# importing needed libraries\n",
    "import numpy as np\n",
    "from numpy import pi\n",
    "from math import dist\n",
    "import matplotlib.pyplot as plt\n",
    "from ripser import ripser\n",
    "from persim import plot_diagrams"
   ]
  },
  {
   "cell_type": "code",
   "execution_count": 38,
   "id": "c78b1b28",
   "metadata": {},
   "outputs": [],
   "source": [
    "# defining functions that will allow us to generate orientation-preserving isometries\n",
    "def translation(a,b):\n",
    "    def t_ab(x,y): \n",
    "        return x+a, y+b\n",
    "    return t_ab\n",
    "\n",
    "def rotation(theta):\n",
    "    def r_theta(x,y):\n",
    "        return x * cos(theta) - y * sin(theta), x * sin(theta) + y * cos(theta)\n",
    "    return r_theta\n",
    "\n",
    "def isom(a,b,theta):\n",
    "    def iso(x,y):\n",
    "        r = rotation(theta)\n",
    "        t = translation(a,b)\n",
    "        return t(r(x,y)[0], r(x,y)[1])\n",
    "    return iso"
   ]
  },
  {
   "cell_type": "code",
   "execution_count": 198,
   "id": "ffd1fc44",
   "metadata": {},
   "outputs": [],
   "source": [
    "# helpful functions for analyzing output from ripser, a persistent homology package\n",
    "def persistent_H1_intervals(output):\n",
    "    H1 = output['dgms'][1].tolist() # all intervals in H1\n",
    "    d = []\n",
    "    for pair in H1: \n",
    "        d.append(pair[1] - pair[0]) # finding lengths of intervals in H1\n",
    "    d.sort(reverse = True) # sorting from longest to shortest intervals\n",
    "    d\n",
    "    return d[:5]\n",
    "\n",
    "def plot_dgms(output):\n",
    "    dgms = output['dgms']\n",
    "    fig = plt.figure(figsize = (12, 6))\n",
    "    plot_diagrams(dgms)"
   ]
  },
  {
   "cell_type": "markdown",
   "id": "c931f759",
   "metadata": {},
   "source": [
    "# Let's start with a symmetry group whose point group is $C_1$"
   ]
  },
  {
   "cell_type": "markdown",
   "id": "b664b082",
   "metadata": {},
   "source": [
    "Note that each isometry is determined by a 2-dimentional translation and a rotation. Suppose $\\Gamma$ is a symmetry group of a tiling with lattice generators $a,b\\in \\mathbb{R}^2$ and point group equal to $C_1$. Then we can parametrize $E(2) \\ / \\ \\Gamma$ with a prism of height $2\\pi$ whose base is the parallelogram spanned by $a$ and $b$ with the following identifications:\n",
    "1. the front and back faces glue together \n",
    "2. the right and left faces glue together \n",
    "3. the top and bottom faces glue together\n",
    "\n",
    "Note that this parameterizes the 3-torus. \n",
    "\n",
    "To find the distance between any two points $(x,y)$ in this prism, we have to consider 27 different \"straight-line\" geodesics that pass through various faces. To see this, fix the position of $x$ and consider possible locations of $y$ that could be obtained by duplicating the prism and gluing it to the original prism along one of the identifications. Fixing $\\theta=0$, we can translate by $a,$ $-a$, $b,$ $-b$, some combination of these, or not translate at all. Considering $x$ in its original position, and $y$ in one of these translated positions, this corresponds to 9 of the 27 possible straight-lines. We get 9 more when we rotate by $2\\pi$ and 9 more again when we rotate by $-2\\pi$. We want to take the minimum distance across these 27 candidate distances."
   ]
  },
  {
   "cell_type": "code",
   "execution_count": 199,
   "id": "7cdf7826",
   "metadata": {},
   "outputs": [],
   "source": [
    "# defining the distance function described above\n",
    "def distance_C1(x, y, a, b):\n",
    "    Y = []\n",
    "    options = [-1,0,1]\n",
    "    for option_a in options:\n",
    "        for option_b in options:\n",
    "            for option_c in options:\n",
    "                Y.append([y[0] + a * option_a, y[1] + b * option_b, y[2] + 2*pi * option_c])\n",
    "    \n",
    "    distances = []\n",
    "    for y_new in Y: \n",
    "        distances.append(dist(x,y_new))\n",
    "        \n",
    "    return min(distances)"
   ]
  },
  {
   "cell_type": "code",
   "execution_count": 200,
   "id": "0875a216",
   "metadata": {},
   "outputs": [],
   "source": [
    "# function to generate a sample of isometries inside of this prism\n",
    "def generate_c1_isoms(n_isos, a, b):\n",
    "    a = list(a * np.random.random(n_isos)) \n",
    "    b = list(b * np.random.random(n_isos)) \n",
    "    theta = list(2*pi * np.random.random(n_isos)) \n",
    "    \n",
    "    isoms = []\n",
    "    for i in range(n_isos):\n",
    "        isoms.append((a[i],b[i],theta[i]))\n",
    "        \n",
    "    return isoms"
   ]
  },
  {
   "cell_type": "code",
   "execution_count": 201,
   "id": "2eae6dea",
   "metadata": {},
   "outputs": [],
   "source": [
    "# calculate the distance between each of these isometries and save this information in a matrix\n",
    "# note that we must specifiy values of a and b\n",
    "\n",
    "isoms = generate_c1_isoms(1000, 6, 6)\n",
    "\n",
    "M = np.zeros((1000,1000))\n",
    "for i in range(1000):\n",
    "    for j in range(1000):\n",
    "        M[i][j] = distance_C1(isoms[i], isoms[j],6,6)"
   ]
  },
  {
   "cell_type": "code",
   "execution_count": 202,
   "id": "db5d648c",
   "metadata": {},
   "outputs": [
    {
     "data": {
      "image/png": "[encoded data removed]",
      "text/plain": [
       "<Figure size 1200x600 with 1 Axes>"
      ]
     },
     "metadata": {},
     "output_type": "display_data"
    }
   ],
   "source": [
    "# feed this distance matrix in to ripser to calculate ther persistent homology of the space\n",
    "# coefficients in Z2\n",
    "output = ripser(M, maxdim = 1, coeff = 2, distance_matrix = True)\n",
    "plot_dgms(output)"
   ]
  },
  {
   "cell_type": "code",
   "execution_count": 203,
   "id": "15b9d631",
   "metadata": {},
   "outputs": [
    {
     "data": {
      "text/plain": [
       "[1.592026174068451,\n",
       " 1.4906542897224426,\n",
       " 1.4827921986579895,\n",
       " 0.5067390203475952,\n",
       " 0.4864857792854309]"
      ]
     },
     "execution_count": 203,
     "metadata": {},
     "output_type": "execute_result"
    }
   ],
   "source": [
    "#there are three outliers!\n",
    "persistent_H1_intervals(output)"
   ]
  },
  {
   "cell_type": "code",
   "execution_count": 204,
   "id": "1d10d76b",
   "metadata": {},
   "outputs": [
    {
     "data": {
      "image/png": "[encoded data removed]",
      "text/plain": [
       "<Figure size 1200x600 with 1 Axes>"
      ]
     },
     "metadata": {},
     "output_type": "display_data"
    }
   ],
   "source": [
    "# do it again with coefficients in Z3\n",
    "output = ripser(M, maxdim = 1, coeff = 3, distance_matrix = True)\n",
    "plot_dgms(output)"
   ]
  },
  {
   "cell_type": "code",
   "execution_count": 205,
   "id": "78d93472",
   "metadata": {},
   "outputs": [
    {
     "data": {
      "text/plain": [
       "[1.592026174068451,\n",
       " 1.4906542897224426,\n",
       " 1.4827921986579895,\n",
       " 0.5067390203475952,\n",
       " 0.4864857792854309]"
      ]
     },
     "execution_count": 205,
     "metadata": {},
     "output_type": "execute_result"
    }
   ],
   "source": [
    "# again we find three outliers\n",
    "persistent_H1_intervals(output)"
   ]
  },
  {
   "cell_type": "markdown",
   "id": "170fdbac",
   "metadata": {},
   "source": [
    "As discussed above, our prism parameterizes the 3-torus, and our persistent homology output is consistent with the 3-torus!"
   ]
  },
  {
   "cell_type": "markdown",
   "id": "4e0de463",
   "metadata": {},
   "source": [
    "# Now a point group that is $C_2$"
   ]
  },
  {
   "cell_type": "markdown",
   "id": "8e4959a1",
   "metadata": {},
   "source": [
    "Now let $\\Gamma\\subseteq E(2)$ a symmetry group whose point group is $C_2$. The prism we build to parameterize $E(2) \\ / \\ \\Gamma$  will be similar to that above, but it will have height $\\pi$ and the top face is identified with a rotation of the bottom face by $\\pi$. This rotation identification slightly complicates where $y$ ends up after duplicating the prism and gluing along faces when a rotation has occured. Note that rotation by $\\pi$ (or $-\\pi$) around the center of the prism sends a point $(x_1,x_2)\\in \\mathbb{R}^2$ to $(a- x_1, b-x_2)$. We will again have 27 straight line distances to compare (9 at $\\theta = 0$, 9 at $\\theta = \\pi$, and 9 at $\\theta = -\\pi).$ With the above identfications, when we calculate the persistent homology of the parameterized space, we expect to get 3 homology classes in the 1-dimensional homology vector space over $\\mathbb{Z}_2$, and 1 homology class in the 1-dimensional homology vector space over $\\mathbb{Z}_3.$"
   ]
  },
  {
   "cell_type": "code",
   "execution_count": 206,
   "id": "507732fb",
   "metadata": {},
   "outputs": [],
   "source": [
    "def distance_C2(x, y, a, b):\n",
    "    \n",
    "    # no rotations\n",
    "    Y = []\n",
    "    options = [-1,0,1]\n",
    "    for option_a in options:\n",
    "        for option_b in options:\n",
    "            Y.append([y[0] + a * option_a, y[1] + b * option_b, y[2]])\n",
    "    \n",
    "    # rotate by pi\n",
    "    options = [-1,0,1]\n",
    "    for option_a in options:\n",
    "        for option_b in options:\n",
    "            Y.append([a - y[0] + a * option_a, b - y[1] + b * option_b, y[2] + pi])\n",
    "        \n",
    "    # rotate by -pi\n",
    "    options = [-1,0,1]\n",
    "    for option_a in options:\n",
    "        for option_b in options:\n",
    "            Y.append([a - y[0] + a * option_a, b - y[1] + b * option_b, y[2] - pi])\n",
    "            \n",
    "    distances = []\n",
    "    for y_new in Y: \n",
    "        distances.append(dist(x,y_new))\n",
    "        \n",
    "    return min(distances)"
   ]
  },
  {
   "cell_type": "code",
   "execution_count": 207,
   "id": "f99b6294",
   "metadata": {},
   "outputs": [],
   "source": [
    "# isometries that allow rotation up to pi\n",
    "def generate_c2_isoms(n_isos, a, b):\n",
    "    a = list(a * np.random.random(n_isos)) \n",
    "    b = list(b * np.random.random(n_isos)) \n",
    "    theta = list(pi * np.random.random(n_isos)) \n",
    "    \n",
    "    isoms = []\n",
    "    for i in range(n_isos):\n",
    "        isoms.append((a[i],b[i],theta[i]))\n",
    "        \n",
    "    return isoms"
   ]
  },
  {
   "cell_type": "code",
   "execution_count": 208,
   "id": "3442bdf1",
   "metadata": {},
   "outputs": [],
   "source": [
    "# calculate the distance between each of these isometries and save this information in a matrix\n",
    "isoms = generate_c2_isoms(1000, 3, 3)\n",
    "\n",
    "M = np.zeros((1000,1000))\n",
    "for i in range(1000):\n",
    "    for j in range(1000):\n",
    "        M[i][j] = distance_C2(isoms[i], isoms[j],3,3)"
   ]
  },
  {
   "cell_type": "code",
   "execution_count": 209,
   "id": "a5d59d53",
   "metadata": {},
   "outputs": [
    {
     "data": {
      "image/png": "[encoded data removed]",
      "text/plain": [
       "<Figure size 1200x600 with 1 Axes>"
      ]
     },
     "metadata": {},
     "output_type": "display_data"
    }
   ],
   "source": [
    "output = ripser(M, maxdim = 1, coeff = 2, distance_matrix = True)\n",
    "plot_dgms(output)"
   ]
  },
  {
   "cell_type": "code",
   "execution_count": 210,
   "id": "f1594bd5",
   "metadata": {},
   "outputs": [
    {
     "data": {
      "text/plain": [
       "[0.8280696868896484,\n",
       " 0.7421999573707581,\n",
       " 0.7395642101764679,\n",
       " 0.2606441378593445,\n",
       " 0.2465856671333313]"
      ]
     },
     "execution_count": 210,
     "metadata": {},
     "output_type": "execute_result"
    }
   ],
   "source": [
    "# three outliers!\n",
    "persistent_H1_intervals(output)"
   ]
  },
  {
   "cell_type": "code",
   "execution_count": 211,
   "id": "66651c26",
   "metadata": {},
   "outputs": [
    {
     "data": {
      "image/png": "[encoded data removed]",
      "text/plain": [
       "<Figure size 1200x600 with 1 Axes>"
      ]
     },
     "metadata": {},
     "output_type": "display_data"
    }
   ],
   "source": [
    "output = ripser(M, maxdim = 1, coeff = 3, distance_matrix = True)\n",
    "plot_dgms(output)"
   ]
  },
  {
   "cell_type": "code",
   "execution_count": 212,
   "id": "0abca56d",
   "metadata": {},
   "outputs": [
    {
     "data": {
      "text/plain": [
       "[0.8280696868896484,\n",
       " 0.26704996824264526,\n",
       " 0.26329687237739563,\n",
       " 0.25833576917648315,\n",
       " 0.2465856671333313]"
      ]
     },
     "execution_count": 212,
     "metadata": {},
     "output_type": "execute_result"
    }
   ],
   "source": [
    "# one outlier!\n",
    "persistent_H1_intervals(output)"
   ]
  },
  {
   "cell_type": "markdown",
   "id": "53782a4b",
   "metadata": {},
   "source": [
    "We get 3 homology classes over $\\mathbb{Z}_2$, and 1 homology class over $\\mathbb{Z}_3$ as wanted."
   ]
  },
  {
   "cell_type": "markdown",
   "id": "d47c4e8c",
   "metadata": {},
   "source": [
    "# Skipping to $C_4$"
   ]
  },
  {
   "cell_type": "markdown",
   "id": "45b97301",
   "metadata": {},
   "source": [
    "We jump ahead to $C_4$ because the parameterized prism looks similar to those in the $C_1$ and $C_2$ cases. Now the height is $\\pi/2$ and the top face is identified with a rotation of the bottom face by $\\pi/2$. Additionally, symmetry groups with point group of $C_4$ always have a square lattice $(a=b)$, so there is only one lattice generator to be specified. Rotation by $\\pi/2$ around the center of the prism sends a point $(x_1,x_2)\\in \\mathbb{R}^2$ to $(a- x_2, x_1+a)$, and rotation by $-\\pi.2$ sends $(x_1,x_2)\\in \\mathbb{R}^2$ to $(x_2+a,a-x-1)$. Again we have 27 straight line distances to compare (9 at $\\theta = 0$, 9 at $\\theta = \\pi/2$, and 9 at $\\theta = -\\pi/2).$ We expect there to be 2 homology classes over $\\mathbb{Z}_2$ and 1 over $\\mathbb{Z}_1$."
   ]
  },
  {
   "cell_type": "code",
   "execution_count": 216,
   "id": "96461883",
   "metadata": {},
   "outputs": [],
   "source": [
    "def distance_C4(x, y, a):\n",
    "    \n",
    "    # no rotation\n",
    "    Y = []\n",
    "    options = [-1,0,1]\n",
    "    for option_1 in options:\n",
    "        for option_2 in options:\n",
    "            Y.append([y[0] + a * option_1, y[1] + a * option_2, y[2]])\n",
    "            \n",
    "    # rotate by pi/2\n",
    "    options = [-1,0,1]\n",
    "    for option_1 in options:\n",
    "        for option_2 in options:\n",
    "            Y.append([a - y[1] + a * option_1, y[0] + a * option_2, y[2] + pi/2])\n",
    "    \n",
    "    # rotate by -pi/2\n",
    "    options = [-1,0,1]\n",
    "    for option_1 in options:\n",
    "        for option_2 in options:\n",
    "            Y.append([y[1] + a * option_1, -y[0] + a + a * option_2, y[2] - pi/2])\n",
    "            \n",
    "    distances = []\n",
    "    for y_new in Y: \n",
    "        distances.append(dist(x,y_new))\n",
    "        \n",
    "    return min(distances)"
   ]
  },
  {
   "cell_type": "code",
   "execution_count": 217,
   "id": "ff19818d",
   "metadata": {},
   "outputs": [],
   "source": [
    "# isometries that allow rotation up to pi/2\n",
    "def generate_c4_isoms(n_isos, x_translate, y_translate):\n",
    "    a = list(x_translate * np.random.random(n_isos)) \n",
    "    b = list(y_translate * np.random.random(n_isos)) \n",
    "    theta = list(pi/2 * np.random.random(n_isos)) \n",
    "    \n",
    "    isoms = []\n",
    "    for i in range(n_isos):\n",
    "        isoms.append((a[i],b[i],theta[i]))\n",
    "        \n",
    "    return isoms"
   ]
  },
  {
   "cell_type": "code",
   "execution_count": null,
   "id": "7424080d",
   "metadata": {},
   "outputs": [],
   "source": [
    "isoms = generate_c4_isoms(1000, 1, 1)\n",
    "\n",
    "M = np.zeros((1000,1000))\n",
    "for i in range(1000):\n",
    "    for j in range(1000):\n",
    "        M[i][j] = distance_C4(isoms[i], isoms[j], 1)"
   ]
  },
  {
   "cell_type": "code",
   "execution_count": null,
   "id": "3fa8c442",
   "metadata": {},
   "outputs": [],
   "source": [
    "output = ripser(M, maxdim = 1, coeff = 2, distance_matrix = True)\n",
    "plot_dgms(output)"
   ]
  },
  {
   "cell_type": "code",
   "execution_count": null,
   "id": "7bf31787",
   "metadata": {},
   "outputs": [],
   "source": [
    "# 2 outliers\n",
    "persistent_H1_intervals(output)"
   ]
  },
  {
   "cell_type": "code",
   "execution_count": null,
   "id": "37d3eaee",
   "metadata": {},
   "outputs": [],
   "source": [
    "output = ripser(M, maxdim = 1, coeff = 3, distance_matrix = True)\n",
    "plot_dgms(output)"
   ]
  },
  {
   "cell_type": "code",
   "execution_count": null,
   "id": "197f2dd2",
   "metadata": {},
   "outputs": [],
   "source": [
    "# 1 outlier\n",
    "persistent_H1_intervals(output)"
   ]
  },
  {
   "cell_type": "markdown",
   "id": "31b56829",
   "metadata": {},
   "source": [
    "# Now we go back to $C_3$ (the troublemaker)"
   ]
  },
  {
   "cell_type": "markdown",
   "id": "a902c368",
   "metadata": {},
   "source": [
    "The parameterization gets slightly more complex for $C_3$. The base of our prism is no longer defined by a paralellogram with four sides, but rather a regular hexagon. Each rectangular side of the hexagonal prism is identified with its opposing parallel side. The height of the prism is $2\\pi/3$ and the top face is identified with a rotation of the bottom face by $2\\pi/3$. Rotation by $2\\pi/3$ around the center of the prism whose base is a regular hexagon sends a point $(x_1,x_2)\\in \\mathbb{R}^2$ to $(-1/2 \\cdot x_1 - \\sqrt{3}/2\\cdot x_2 , -1/2 \\cdot x_2 + \\sqrt{3}/2\\cdot x_1)$, and rotation by $-2\\pi/3$ sends $(x_1,x_2)\\in \\mathbb{R}^2$ to $(-1/2 \\cdot x_1 + \\sqrt{3}/2\\cdot x_2 , -1/2 \\cdot x_2 - \\sqrt{3}/2\\cdot x_1)$. Fixing $\\theta = 0$, we can duplicate the prism and glue it along an identification of any of its six rectangular faces, or not translate at all. Thus we get 7 possible new locations for $y$. We get 7 more when we rotate by $2\\pi/3$, and 7 more again when we rotate by $-2\\pi/3$. Thus we compare 21 straight line distances. We now expect there to be 1 homology class over $\\mathbb{Z}_2$ and 2 over $\\mathbb{Z}_1$."
   ]
  },
  {
   "cell_type": "code",
   "execution_count": null,
   "id": "c8dabb3c",
   "metadata": {},
   "outputs": [],
   "source": [
    "def distance_C3(x, y, a):\n",
    "    \n",
    "    # no translation in rotation axis\n",
    "    Y = [y] # no translation in any axis\n",
    "    for i in [1,-1]:\n",
    "        Y.append((y[0], y[1]+ i * (3**0.5) * a, y[2])) # front and back\n",
    "        Y.append((y[0] + i * (3/2) * a, y[1] - (3**0.5)/2 * a, y[2])) # LB and RF\n",
    "        Y.append((y[0] + i * (3/2) * a, y[1] + (3**0.5)/2 * a, y[2])) # LF and RB\n",
    "        \n",
    "    # rotate by 2pi/3\n",
    "    Y.append((-1/2 * y[0] - (3**0.5)/2 * y[1], -1/2 * y[1] + (3**0.5)/2 * y[0], y[2] + 2*pi/3)) # only rotation by 2pi/3\n",
    "    for i in [1,-1]:\n",
    "        y1 = -1/2 * y[0] - (3**0.5)/2 * y[1]\n",
    "        y2 = -1/2 * y[1] + (3**0.5)/2 * y[0] \n",
    "        Y.append((y1, y2 + i * (3**0.5) * a, y[2] + 2*pi/3)) # front and back\n",
    "        Y.append((y1 + i * (3/2) * a, y2 - (3**0.5)/2 * a, y[2] + 2*pi/3)) # LB and RF\n",
    "        Y.append((y1 + i * (3/2) * a, y2 + (3**0.5)/2 * a, y[2] + 2*pi/3)) # LF and RB    \n",
    "    \n",
    "    # rotate by -2pi/3\n",
    "    Y.append((-1/2 * y[0] + (3**0.5)/2 * y[1], -1/2 * y[1] - (3**0.5)/2 * y[0], y[2] - 2*pi/3)) # only rotation by -2pi/3\n",
    "    for i in [1,-1]:\n",
    "        y1 = -1/2 * y[0]+ (3**0.5)/2 * y[1]\n",
    "        y2 = -1/2 * y[1] - (3**0.5)/2 * y[0]\n",
    "        Y.append((y1, y2 + i * (3**0.5) * a, y[2] - 2*pi/3)) # front and back\n",
    "        Y.append((y1 + i * (3/2) * a, y2 - (3**0.5)/2 * a, y[2] - 2*pi/3)) # LB and RF\n",
    "        Y.append((y1 + i * (3/2) * a, y2 + (3**0.5)/2 * a, y[2] - 2*pi/3)) # LF and RB   \n",
    "    \n",
    "    distances = []\n",
    "    for y_new in Y: \n",
    "        distances.append(dist(x,y_new))\n",
    "        \n",
    "    return min(distances)"
   ]
  },
  {
   "cell_type": "code",
   "execution_count": null,
   "id": "d1043e0f",
   "metadata": {},
   "outputs": [],
   "source": [
    "# allow only for rotations up to 2pi/3\n",
    "# we first sample from a rectangular patch of the plane and then cut off the corners to create a hexagonal shape\n",
    "\n",
    "def generate_c3_isoms(n_isos, a):\n",
    "    X = list(2 * a * np.random.random(2 * n_isos) - a)  \n",
    "    Y = list((3**0.5) * a * np.random.random(2 * n_isos) - (3**0.5)/2 * a)\n",
    "    theta = list(2*pi/3 * np.random.random(2 * n_isos))\n",
    "    \n",
    "    i = 0\n",
    "    hexagon = []\n",
    "    while len(hexagon) < n_isos:\n",
    "        if (Y[i] > -(3**0.5) * a + (3**0.5) * X[i]) and (Y[i] > -(3**0.5) * a - (3**0.5) * X[i]) and (Y[i] < (3**0.5) * a + (3**0.5) * X[i]) and (Y[i] < (3**0.5) * a - (3**0.5) * X[i]):  \n",
    "            hexagon.append((X[i], Y[i], theta[i]))\n",
    "        i = i + 1\n",
    "    \n",
    "    return hexagon"
   ]
  },
  {
   "cell_type": "code",
   "execution_count": null,
   "id": "6759692a",
   "metadata": {},
   "outputs": [],
   "source": [
    "hexagon = generate_c3_isoms(1000, 2)\n",
    "\n",
    "X = []\n",
    "Y = []\n",
    "for i in range(len(hexagon)):\n",
    "    X.append(hexagon[i][0])\n",
    "    Y.append(hexagon[i][1])\n",
    "\n",
    "fig = plt.figure(figsize = (4, 4))\n",
    "ax = plt.axes()\n",
    "ax.scatter(X, Y)\n",
    "plt.show()"
   ]
  },
  {
   "cell_type": "code",
   "execution_count": null,
   "id": "3a1c9056",
   "metadata": {},
   "outputs": [],
   "source": [
    "isoms = generate_c3_isoms(1000, 1)\n",
    "\n",
    "M = np.zeros((1000,1000))\n",
    "for i in range(1000):\n",
    "    for j in range(1000):\n",
    "        M[i][j] = distance_C3(isoms[i], isoms[j], 1)"
   ]
  },
  {
   "cell_type": "code",
   "execution_count": null,
   "id": "5e3413cf",
   "metadata": {},
   "outputs": [],
   "source": [
    "output = ripser(M, maxdim = 1, coeff = 2, distance_matrix = True)\n",
    "plot_dgms(output)"
   ]
  },
  {
   "cell_type": "code",
   "execution_count": null,
   "id": "425e965a",
   "metadata": {},
   "outputs": [],
   "source": [
    "# one outlier\n",
    "persistent_H1_intervals(output)"
   ]
  },
  {
   "cell_type": "code",
   "execution_count": null,
   "id": "7cc62f32",
   "metadata": {},
   "outputs": [],
   "source": [
    "output = ripser(M, maxdim = 1, coeff = 3, distance_matrix = True)\n",
    "plot_dgms(output)"
   ]
  },
  {
   "cell_type": "code",
   "execution_count": null,
   "id": "75921424",
   "metadata": {},
   "outputs": [],
   "source": [
    "# two outliers!!\n",
    "persistent_H1_intervals(output)"
   ]
  },
  {
   "cell_type": "markdown",
   "id": "adf4e1f2",
   "metadata": {},
   "source": [
    "# And finally $C_6$"
   ]
  },
  {
   "cell_type": "markdown",
   "id": "ab690dc7",
   "metadata": {},
   "source": [
    "We again have a hexagonal prism as our parameterization for a symmetry group with $C_6$ point group. However, now the height of the prism is $pi/3$ and the top face is identified with a rotation of the bottom face by $pi/3$. Rotation by $pi/3$ around the center of the prism whose base is a regular hexagon sends a point $(x_1,x_2)\\in \\mathbb{R}^2$ to $(1/2 \\cdot x_1 - \\sqrt{3}/2\\cdot x_2 , 1/2 \\cdot x_2 + \\sqrt{3}/2\\cdot x_1)$, and rotation by $-2\\pi/3$ sends $(x_1,x_2)\\in \\mathbb{R}^2$ to $(1/2 \\cdot x_1 + \\sqrt{3}/2\\cdot x_2 , 1/2 \\cdot x_2 - \\sqrt{3}/2\\cdot x_1)$. We still have 21 distances to compare. We expect to get 1 homology class over $\\mathbb{Z}_2$ and 1 over $\\mathbb{Z}_1$."
   ]
  },
  {
   "cell_type": "code",
   "execution_count": null,
   "id": "b0f608ec",
   "metadata": {},
   "outputs": [],
   "source": [
    "def distance_C6(x, y, a):\n",
    "    \n",
    "    # no translation in rotation axis\n",
    "    Y = [y] # no translation in any axis\n",
    "    for i in [1,-1]:\n",
    "        Y.append((y[0], y[1] + i * (3**0.5) * a, y[2])) # front and back\n",
    "        Y.append((y[0] + i * (3/2) * a, y[1] - (3**0.5)/2 * a, y[2])) # LB and RF\n",
    "        Y.append((y[0] + i * (3/2) * a, y[1] + (3**0.5)/2 * a, y[2])) # LF and RB\n",
    "        \n",
    "    # rotation by pi/3\n",
    "    Y.append((1/2 * y[0] - (3**0.5)/2 * y[1], 1/2 * y[1] + (3**0.5)/2 * y[0], y[2] + pi/3)) # only rotation by 2pi/3\n",
    "    for i in [1,-1]:\n",
    "        y1 = 1/2 * y[0] - (3**0.5)/2 * y[1]\n",
    "        y2 = 1/2 * y[1] + (3**0.5)/2 * y[0] \n",
    "        Y.append((y1, y2 + i * (3**0.5) * a, y[2] + 2*pi/3)) # front and back\n",
    "        Y.append((y1 + i * (3/2) * a, y2 - (3**0.5)/2 * a, y[2] + pi/3)) # LB and RF\n",
    "        Y.append((y1 + i * (3/2) * a, y2 + (3**0.5)/2 * a, y[2] + pi/3)) # LF and RB    \n",
    "    \n",
    "    # rotation by -pi/3\n",
    "    Y.append((1/2 * y[0] + (3**0.5)/2 * y[1], 1/2 * y[1] - (3**0.5)/2 * y[0], y[2] - pi/3)) # only rotation by -2pi/3\n",
    "    for i in [1,-1]:\n",
    "        y1 = 1/2 * y[0]+ (3**0.5)/2 * y[1]\n",
    "        y2 = 1/2 * y[1] - (3**0.5)/2 * y[0]\n",
    "        Y.append((y1, y2 + i * (3**0.5) * a, y[2] - 2*pi/3)) # front and back\n",
    "        Y.append((y1 + i * (3/2) * a, y2 - (3**0.5)/2 * a, y[2] - pi/3)) # LB and RF\n",
    "        Y.append((y1 + i * (3/2) * a, y2 + (3**0.5)/2 * a, y[2] - pi/3)) # LF and RB   \n",
    "    \n",
    "    distances = []\n",
    "    for y_new in Y: \n",
    "        distances.append(dist(x,y_new))\n",
    "        \n",
    "    return min(distances)"
   ]
  },
  {
   "cell_type": "code",
   "execution_count": null,
   "id": "34b888d4",
   "metadata": {},
   "outputs": [],
   "source": [
    "# only allow rotation up to pi/3\n",
    "def generate_c6_isoms(n_isos, a):\n",
    "    X = list(2 * a * np.random.random(2 * n_isos) - a)  \n",
    "    Y = list((3**0.5) * a * np.random.random(2 * n_isos) - (3**0.5)/2 * a)\n",
    "    theta = list(pi/3 * np.random.random(2 * n_isos))\n",
    "    \n",
    "    i = 0\n",
    "    hexagon = []\n",
    "    while len(hexagon) < n_isos:\n",
    "        if (Y[i] > -(3**0.5) * a + (3**0.5) * X[i]) and (Y[i] > -(3**0.5) * a - (3**0.5) * X[i]) and (Y[i] < (3**0.5) * a + (3**0.5) * X[i]) and (Y[i] < (3**0.5) * a - (3**0.5) * X[i]):  \n",
    "            hexagon.append((X[i], Y[i], theta[i]))\n",
    "        i = i + 1\n",
    "    \n",
    "    return hexagon"
   ]
  },
  {
   "cell_type": "code",
   "execution_count": null,
   "id": "b7280875",
   "metadata": {},
   "outputs": [],
   "source": [
    "isoms = generate_c6_isoms(1000, .5)\n",
    "\n",
    "M = np.zeros((1000,1000))\n",
    "for i in range(1000):\n",
    "    for j in range(1000):\n",
    "        M[i][j] = distance_C6(isoms[i], isoms[j], .5)"
   ]
  },
  {
   "cell_type": "code",
   "execution_count": null,
   "id": "db53e573",
   "metadata": {},
   "outputs": [],
   "source": [
    "output = ripser(M, maxdim = 1, coeff = 2, distance_matrix = True)\n",
    "plot_dgms(output)"
   ]
  },
  {
   "cell_type": "code",
   "execution_count": null,
   "id": "53a4fe06",
   "metadata": {},
   "outputs": [],
   "source": [
    "#one outlier\n",
    "persistent_H1_intervals(output)"
   ]
  },
  {
   "cell_type": "code",
   "execution_count": null,
   "id": "a4c2bea4",
   "metadata": {},
   "outputs": [],
   "source": [
    "output = ripser(M, maxdim = 1, coeff = 3, distance_matrix = True)\n",
    "plot_dgms(output)"
   ]
  },
  {
   "cell_type": "code",
   "execution_count": null,
   "id": "280e8991",
   "metadata": {},
   "outputs": [],
   "source": [
    "#one outlier\n",
    "persistent_H1_intervals(output)"
   ]
  },
  {
   "cell_type": "code",
   "execution_count": null,
   "id": "e0ff42d3",
   "metadata": {},
   "outputs": [],
   "source": []
  },
  {
   "cell_type": "code",
   "execution_count": null,
   "id": "3e6d788f",
   "metadata": {},
   "outputs": [],
   "source": []
  }
 ],
 "metadata": {
  "kernelspec": {
   "display_name": "Python 3 (ipykernel)",
   "language": "python",
   "name": "python3"
  },
  "language_info": {
   "codemirror_mode": {
    "name": "ipython",
    "version": 3
   },
   "file_extension": ".py",
   "mimetype": "text/x-python",
   "name": "python",
   "nbconvert_exporter": "python",
   "pygments_lexer": "ipython3",
   "version": "3.9.16"
  }
 },
 "nbformat": 4,
 "nbformat_minor": 5
}
