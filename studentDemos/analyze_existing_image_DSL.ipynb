{
 "cells": [
  {
   "cell_type": "markdown",
   "id": "34fa544a",
   "metadata": {},
   "source": [
    "This code uses built-in functions from the Image class in PIL to execute isometries on a given image. It snapshots the lens view after each isometry, then puts those images into a numpy array. It then calculates the persistent homology of the data. For different images, 'lens_sz' and 'intervals' should be adjusted."
   ]
  },
  {
   "cell_type": "code",
   "execution_count": 1,
   "id": "79d8b908",
   "metadata": {},
   "outputs": [],
   "source": [
    "# Imports\n",
    "import numpy as np\n",
    "import math\n",
    "\n",
    "# For image and video manipulation\n",
    "from PIL import Image\n",
    "from PIL import ImageEnhance\n",
    "from PIL import ImageFilter\n",
    "import PIL\n",
    "import glob\n",
    "\n",
    "# Persistent homology\n",
    "from ripser import ripser\n",
    "from persim import plot_diagrams\n",
    "\n",
    "import matplotlib.pyplot as plt\n",
    "%matplotlib inline"
   ]
  },
  {
   "cell_type": "code",
   "execution_count": 23,
   "id": "10d5aa95",
   "metadata": {},
   "outputs": [],
   "source": [
    "# Grab image from files\n",
    "img_names = glob.glob('images/*C1bigarrows.png')\n",
    "img = Image.open(img_names[0])\n",
    "# with np.printoptions(threshold=np.inf):\n",
    "#     print(np.asarray(img))\n",
    "\n",
    "img = img.convert('L')\n",
    "# with np.printoptions(threshold=np.inf):\n",
    "#     print(np.asarray(img))\n",
    "#img = img.resize((540,331), resample = PIL.Image.Resampling.BOX)\n",
    "#img = ImageEnhance.Sharpness(img.convert('RGB'))\n",
    "#img = img.enhance(0.1)\n",
    "#img = img.filter(ImageFilter.GaussianBlur(1))\n",
    "\n",
    "#img.show()"
   ]
  },
  {
   "cell_type": "markdown",
   "id": "be4f30d9",
   "metadata": {},
   "source": [
    "translation_snapshot() translates the plane by a vector a and returns the lens view afterwards. It takes an image (Image), the lens size (int), and the translation vector (tuple) that shifts the plane in the direction of the vector. "
   ]
  },
  {
   "cell_type": "code",
   "execution_count": 24,
   "id": "46cd23cd",
   "metadata": {},
   "outputs": [],
   "source": [
    "def translation_snapshot(img, lens_sz, a):\n",
    "    (x,y)=a\n",
    "    x=-x #since x and y will shift the crop and not the plane, need to make sure it is going in right direction\n",
    "    (length, height) = img.size\n",
    "    lens_corner_x=length/2.0 - lens_sz/2.0 +x\n",
    "    lens_corner_y=height/2.0 - lens_sz/2.0 +y\n",
    "    ret_img = img.crop((lens_corner_x,lens_corner_y, lens_corner_x+lens_sz, lens_corner_y+lens_sz))\n",
    "    \n",
    "    #make sure didn't fall off of the image\n",
    "    (ret_length, ret_height) = ret_img.size\n",
    "    if (lens_corner_x<0 or lens_corner_y<0 or lens_corner_x+lens_sz>length or lens_corner_y+lens_sz>height):\n",
    "        print(\"I came off the page!\")\n",
    "        return False\n",
    "    return ret_img"
   ]
  },
  {
   "cell_type": "code",
   "execution_count": 60,
   "id": "0b3e4f3a",
   "metadata": {},
   "outputs": [
    {
     "name": "stdout",
     "output_type": "stream",
     "text": [
      "[-420.63517242 -210.31758621    0.          210.31758621  420.63517242]\n",
      "0.0\n",
      "5.070422535211268\n",
      "10.140845070422536\n",
      "15.211267605633804\n",
      "20.281690140845072\n",
      "25.35211267605634\n",
      "30.422535211267608\n",
      "35.49295774647888\n",
      "40.563380281690144\n",
      "45.63380281690141\n",
      "50.70422535211268\n",
      "55.77464788732395\n",
      "60.845070422535215\n",
      "65.91549295774648\n",
      "70.98591549295776\n",
      "76.05633802816902\n",
      "81.12676056338029\n",
      "86.19718309859155\n",
      "91.26760563380282\n",
      "96.3380281690141\n",
      "101.40845070422536\n",
      "106.47887323943662\n",
      "111.5492957746479\n",
      "116.61971830985917\n",
      "121.69014084507043\n",
      "126.7605633802817\n",
      "131.83098591549296\n",
      "136.90140845070422\n",
      "141.97183098591552\n",
      "147.04225352112678\n",
      "152.11267605633805\n",
      "157.1830985915493\n",
      "162.25352112676057\n",
      "167.32394366197184\n",
      "172.3943661971831\n",
      "177.46478873239437\n",
      "182.53521126760563\n",
      "187.60563380281693\n",
      "192.6760563380282\n",
      "197.74647887323945\n",
      "202.81690140845072\n",
      "207.88732394366198\n",
      "212.95774647887325\n",
      "218.0281690140845\n",
      "223.0985915492958\n",
      "228.16901408450707\n",
      "233.23943661971833\n",
      "238.3098591549296\n",
      "243.38028169014086\n",
      "248.45070422535213\n",
      "253.5211267605634\n",
      "258.59154929577466\n",
      "263.6619718309859\n",
      "268.7323943661972\n",
      "273.80281690140845\n",
      "278.8732394366197\n",
      "283.94366197183103\n",
      "289.0140845070423\n",
      "294.08450704225356\n",
      "299.1549295774648\n",
      "304.2253521126761\n",
      "309.29577464788736\n",
      "314.3661971830986\n",
      "319.4366197183099\n",
      "324.50704225352115\n",
      "329.5774647887324\n",
      "334.6478873239437\n",
      "339.71830985915494\n",
      "344.7887323943662\n",
      "349.85915492957747\n",
      "354.92957746478874\n",
      "360.0\n"
     ]
    }
   ],
   "source": [
    "# adjustable variables\n",
    "lens_sz = 300\n",
    "degree_num = 72\n",
    "translation_num = 5\n",
    "rng = np.random.default_rng(451)\n",
    "# note lens size should be dividable by crunch kernel if lens crunch is true\n",
    "lens_crunch = False\n",
    "crunch_kernel = 3\n",
    "image_list = []\n",
    "# this should probably be false, other option produces poor results. Only matters for first snapshot method.\n",
    "random_intervals = False\n",
    "zero_translations = 50\n",
    "\n",
    "# this range depends on image size and lens size such that the lens doesn't come off the page\n",
    "lens_range = ((min(img.size)/math.sqrt(2))-lens_sz)/2.0\n",
    "\n",
    "degrees = np.linspace(0, 360, degree_num)\n",
    "\n",
    "\n",
    "\n",
    "if not random_intervals:\n",
    "    intervals_x = np.linspace((-1)*lens_range, lens_range, translation_num)\n",
    "    intervals_y = np.linspace((-1)*lens_range, lens_range, translation_num)\n",
    "else:\n",
    "    intervals_x = rng.integers((-1)*lens_range, lens_range, size = translation_num)\n",
    "    intervals_y = rng.integers((-1)*lens_range, lens_range, size = translation_num)\n",
    "\n",
    "print(intervals_x)\n",
    "# take snapshot images\n",
    "# for d in degrees:\n",
    "#     print(d)\n",
    "#     rot = img.rotate(d,resample = PIL.Image.Resampling.BICUBIC)\n",
    "#     for x in intervals_x:\n",
    "#         for y in intervals_y:\n",
    "#             if lens_crunch == False:\n",
    "#                 image_list.append(translation_snapshot(rot, lens_sz, (x,y)))\n",
    "#             else:\n",
    "#                 image_list.append(translation_snapshot(rot, lens_sz, (x,y)).resize((math.ceil(lens_sz / crunch_kernel),\n",
    "#                                                                                   math.ceil(lens_sz / crunch_kernel)),\n",
    "#                                                                                   resample = PIL.Image.Resampling.BOX))\n",
    "                \n",
    "# alternate snapshot: for every degree, do trans_num random translations\n",
    "\n",
    "for d in degrees:\n",
    "    rot = img.rotate(d,resample = PIL.Image.Resampling.NEAREST)\n",
    "    print(d)\n",
    "    for j in range(translation_num):\n",
    "        x = rng.integers((-1)*lens_range, lens_range)\n",
    "        y = rng.integers((-1)*lens_range, lens_range)\n",
    "        if lens_crunch == False:\n",
    "                    image_list.append(translation_snapshot(rot, lens_sz, (x,y)))\n",
    "        else:\n",
    "                    image_list.append(translation_snapshot(rot, lens_sz, (x,y)).resize((math.ceil(lens_sz / crunch_kernel),\n",
    "                                                                                      math.ceil(lens_sz / crunch_kernel)),\n",
    "                                                                                     resample = PIL.Image.Resampling.BOX))\n",
    "                \n",
    "for j in range(zero_translations):\n",
    "    x = rng.integers((-1)*lens_range, lens_range)\n",
    "    y = rng.integers((-1)*lens_range, lens_range)\n",
    "    if lens_crunch == False:\n",
    "                    image_list.append(translation_snapshot(img, lens_sz, (x,y)))\n",
    "    else:\n",
    "                    image_list.append(translation_snapshot(img, lens_sz, (x,y)).resize((math.ceil(lens_sz / crunch_kernel),\n",
    "                                                                                      math.ceil(lens_sz / crunch_kernel)),\n",
    "                                                                                     resample = PIL.Image.Resampling.BOX))            \n",
    "# finally, completely random isometries; makes degree_num isometries.\n",
    "# degrees = rng.uniform(0.0,360.0, size = degree_num)\n",
    "# j = 0\n",
    "# for d in degrees:\n",
    "#     print(j)\n",
    "#     j = j + 1\n",
    "#     rot = img.rotate(d,resample = PIL.Image.Resampling.BICUBIC)\n",
    "#     x = rng.integers((-1)*lens_range, lens_range)\n",
    "#     y = rng.integers((-1)*lens_range, lens_range)\n",
    "#     if lens_crunch == False:\n",
    "#                     image_list.append(translation_snapshot(rot, lens_sz, (x,y)))\n",
    "#     else:\n",
    "#                     image_list.append(translation_snapshot(rot, lens_sz, (x,y)).resize((math.ceil(lens_sz / crunch_kernel),\n",
    "#                                                                                       math.ceil(lens_sz / crunch_kernel)),\n",
    "#                                                                                      resample = PIL.Image.Resampling.BOX))\n",
    "            \n",
    "# Turn images into array of data\n",
    "data = []\n",
    "x=0\n",
    "for i in image_list:\n",
    "    img_arr = np.asarray(i)\n",
    "    data.append(img_arr.reshape(-1))\n",
    "data = np.array(data)\n"
   ]
  },
  {
   "cell_type": "code",
   "execution_count": 61,
   "id": "43e6d86b",
   "metadata": {
    "scrolled": true
   },
   "outputs": [
    {
     "name": "stderr",
     "output_type": "stream",
     "text": [
      "C:\\Users\\user\\AppData\\Local\\Programs\\Python\\Python311\\Lib\\site-packages\\ripser\\ripser.py:253: UserWarning: The input point cloud has more columns than rows; did you mean to transpose?\n",
      "  warnings.warn(\n"
     ]
    },
    {
     "data": {
      "image/png": "[encoded data removed]",
      "text/plain": [
       "<Figure size 400x400 with 1 Axes>"
      ]
     },
     "metadata": {},
     "output_type": "display_data"
    }
   ],
   "source": [
    "# make persistent homology plot with ripser\n",
    "res = ripser(data, maxdim=1,  coeff =2, metric = \"manhattan\")\n",
    "dgms = res['dgms']\n",
    "plt.figure(figsize = (4,4)) \n",
    "plot_diagrams(dgms)"
   ]
  },
  {
   "cell_type": "code",
   "execution_count": 18,
   "id": "21a138e1",
   "metadata": {},
   "outputs": [],
   "source": [
    "# if you want to store generated images in a file\n",
    "def store_snapshots(image_ls):\n",
    "    counter = 0\n",
    "    for img1 in image_ls:\n",
    "        img1.save(\"images/dataset/\"+str(counter)+\".png\")\n",
    "        counter+=1"
   ]
  },
  {
   "cell_type": "code",
   "execution_count": 56,
   "id": "c830c0c0",
   "metadata": {},
   "outputs": [],
   "source": [
    "store_snapshots(image_list)"
   ]
  },
  {
   "cell_type": "code",
   "execution_count": 62,
   "id": "cc99bae5",
   "metadata": {},
   "outputs": [
    {
     "data": {
      "text/plain": [
       "[134130.0,\n",
       " 60690.0,\n",
       " 13005.0,\n",
       " 12750.0,\n",
       " 12240.0,\n",
       " 11985.0,\n",
       " 10455.0,\n",
       " 9690.0,\n",
       " 9435.0,\n",
       " 6120.0,\n",
       " 5610.0,\n",
       " 255.0]"
      ]
     },
     "execution_count": 62,
     "metadata": {},
     "output_type": "execute_result"
    }
   ],
   "source": [
    "# see how many points are persisting\n",
    "H1 = res['dgms'][1].tolist() # all intervals in H1\n",
    "d = []\n",
    "for pair in H1: \n",
    "    d.append(pair[1] - pair[0]) # finding lengths of intervals in H1\n",
    "d.sort(reverse = True) # sorting from longest to shortest intervals\n",
    "d"
   ]
  },
  {
   "cell_type": "code",
   "execution_count": null,
   "id": "7adc8aea",
   "metadata": {},
   "outputs": [],
   "source": []
  }
 ],
 "metadata": {
  "kernelspec": {
   "display_name": "Python 3 (ipykernel)",
   "language": "python",
   "name": "python3"
  },
  "language_info": {
   "codemirror_mode": {
    "name": "ipython",
    "version": 3
   },
   "file_extension": ".py",
   "mimetype": "text/x-python",
   "name": "python",
   "nbconvert_exporter": "python",
   "pygments_lexer": "ipython3",
   "version": "3.11.3"
  }
 },
 "nbformat": 4,
 "nbformat_minor": 5
}
