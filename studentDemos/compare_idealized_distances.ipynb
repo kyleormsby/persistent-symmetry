{
 "cells": [
  {
   "cell_type": "markdown",
   "id": "51b54c4b",
   "metadata": {},
   "source": [
    "# Geodesics of $E(2) \\ / \\ \\Gamma$ for different wallpaper groups $\\Gamma$"
   ]
  },
  {
   "cell_type": "markdown",
   "id": "e64fc79e",
   "metadata": {},
   "source": [
    "Let $E(2)$ be the group of orientation-preserving isometries on the Euclidean plane $E^2$. In this notebook, we study periodic tilings of $E^2$ by nonoverlapping shapes with no gaps. For a tiling of $E^2$, we define its symmetry group $\\Gamma\\subseteq E(2)$ to be the subgroup of isometries that map the tiling to itself. \n",
    "\n",
    "The **point group** of $\\Gamma$ is $\\Gamma_0 = \\{\\rho_{\\theta}\\ | \\ (a,\\theta)\\in \\Gamma \\text{ for some } a \\in \\mathbb{R}^2\\}$\n",
    "\n",
    "The **lattice** of $\\Gamma$ is $\\Gamma_L = \\{a\\in \\mathbb{R}^2\\ | \\ (a,0)\\in \\Gamma\\}$ \n",
    "\n",
    "If $\\Gamma$ is the symmetry group of a tiling, one can show that:\n",
    "1. $\\Gamma_0\\in \\{C_1,C_2,C_3,C_4,C_6\\}$ where $C_n = \\{\\rho_\\theta \\ | \\ \\theta = \\frac{i \\cdot 2 \\pi}{n} \\text{ for } i = 0,1,2,\\ldots, n-1\\}$ (we refer to these as the five wallpaper groups).\n",
    "2. There exists linearly independent $a,b\\in \\mathbb{R}^2$ such that $\\Gamma_L=\\{ma+nb \\ | \\ m,n\\in \\mathbb{Z}\\}$ (we refer to $a$ and $b$ as the lattice generators of $\\Gamma$).\n",
    "\n",
    "For a tiling with symmetry group $\\Gamma$, we can build 3-dimensional parameterization of $E(2)\\ / \\ \\Gamma$ that depends on the wallpaper group and the lattice generators. This notebook explores how to define distance on these parameterizations and how this can be used to study the homology of the parameterized space."
   ]
  },
  {
   "cell_type": "code",
   "execution_count": 1,
   "id": "c9718b9c",
   "metadata": {},
   "outputs": [],
   "source": [
    "# importing needed libraries\n",
    "import numpy as np\n",
    "from numpy import pi\n",
    "from math import dist\n",
    "import matplotlib.pyplot as plt\n",
    "from ripser import ripser\n",
    "from persim import plot_diagrams\n",
    "# For image and video manipulation\n",
    "from PIL import Image\n",
    "from PIL import ImageFilter\n",
    "from IPython.display import display\n",
    "import glob"
   ]
  },
  {
   "cell_type": "code",
   "execution_count": 2,
   "id": "82fb1bbd",
   "metadata": {},
   "outputs": [],
   "source": [
    "# defining the distance function described above\n",
    "def C1_wrapper(a,b):\n",
    "    def distance_C1(x, y):\n",
    "        Y = []\n",
    "        options = [-1,0,1]\n",
    "        for option_a in options:\n",
    "            for option_b in options:\n",
    "                for option_c in options:\n",
    "                    Y.append([y[0] + a[0] * option_a + b[0] * option_b, y[1] + a[1] * option_a + b[1] * option_b, y[2] + 2*pi * option_c])\n",
    "\n",
    "        distances = []\n",
    "        for y_new in Y: \n",
    "            distances.append(dist(x,y_new))\n",
    "\n",
    "        return min(distances)\n",
    "    return distance_C1"
   ]
  },
  {
   "cell_type": "code",
   "execution_count": 3,
   "id": "48fdc2b5",
   "metadata": {},
   "outputs": [],
   "source": [
    "def generate_c1_isoms(n_isos, a, b):\n",
    "    v0 = (0,0)\n",
    "    v1 = a\n",
    "    v2 = b\n",
    "    \n",
    "    rand1 = list(np.random.random(n_isos))\n",
    "    rand2 = list(np.random.random(n_isos))\n",
    "    \n",
    "    theta = list(2*pi * np.random.random(n_isos)) \n",
    "\n",
    "    parallelogram = []\n",
    "    \n",
    "    for i in range(n_isos):\n",
    "        X = rand1[i] * (v1[0]-v0[0]) + rand2[i] * (v2[0]-v0[0])\n",
    "        Y = rand1[i] * (v1[1]-v0[1]) + rand2[i] * (v2[1]-v0[1])\n",
    "        parallelogram.append((X,Y,theta[i]))\n",
    "        \n",
    "    return parallelogram"
   ]
  },
  {
   "cell_type": "code",
   "execution_count": 4,
   "id": "517c2b4c",
   "metadata": {},
   "outputs": [],
   "source": [
    "def C2_wrapper(a,b):\n",
    "    def distance_C2(x, y):\n",
    "\n",
    "        # no rotations\n",
    "        Y = []\n",
    "        options = [-1,0,1]\n",
    "        for option_a in options:\n",
    "            for option_b in options:\n",
    "                Y.append([y[0] + a[0] * option_a + b[0] * option_b, y[1] + a[1] * option_a + b[1] * option_b, y[2]])\n",
    "\n",
    "        # rotate by pi\n",
    "        options = [-1,0,1]\n",
    "        for option_a in options:\n",
    "            for option_b in options:\n",
    "                Y.append([a[0] + b[0] - y[0] + a[0] * option_a + b[0] * option_b, a[1] + b[1] - y[1] + a[1] * option_a + b[1] * option_b, y[2] + pi])\n",
    "\n",
    "        # rotate by -pi\n",
    "        options = [-1,0,1]\n",
    "        for option_a in options:\n",
    "            for option_b in options:\n",
    "                Y.append([a[0] + b[0] - y[0] + a[0] * option_a + b[0] * option_b, a[1] + b[1] - y[1] + + a[1] * option_a + b[1] * option_b, y[2] - pi])\n",
    "\n",
    "        distances = []\n",
    "        for y_new in Y: \n",
    "            distances.append(dist(x,y_new))\n",
    "\n",
    "        return min(distances)\n",
    "    return distance_C2"
   ]
  },
  {
   "cell_type": "code",
   "execution_count": 5,
   "id": "a4323be7",
   "metadata": {},
   "outputs": [],
   "source": [
    "def generate_c2_isoms(n_isos, a, b):\n",
    "    v0 = (0,0)\n",
    "    v1 = a\n",
    "    v2 = b\n",
    "    \n",
    "    rand1 = list(np.random.random(n_isos))\n",
    "    rand2 = list(np.random.random(n_isos))\n",
    "    \n",
    "    theta = list(pi * np.random.random(n_isos)) \n",
    "\n",
    "    parallelogram = []\n",
    "    \n",
    "    for i in range(n_isos):\n",
    "        X = rand1[i] * (v1[0]-v0[0]) + rand2[i] * (v2[0]-v0[0])\n",
    "        Y = rand1[i] * (v1[1]-v0[1]) + rand2[i] * (v2[1]-v0[1])\n",
    "        parallelogram.append((X,Y,theta[i]))\n",
    "        \n",
    "    return parallelogram"
   ]
  },
  {
   "cell_type": "code",
   "execution_count": 6,
   "id": "96461883",
   "metadata": {},
   "outputs": [],
   "source": [
    "def C4_wrapper(a): \n",
    "    def distance_C4(x, y):\n",
    "\n",
    "        # no rotation\n",
    "        Y = []\n",
    "        options = [-1,0,1]\n",
    "        for option_1 in options:\n",
    "            for option_2 in options:\n",
    "                Y.append([y[0] + a * option_1, y[1] + a * option_2, y[2]])\n",
    "\n",
    "        # rotate by pi/2\n",
    "        options = [-1,0,1]\n",
    "        for option_1 in options:\n",
    "            for option_2 in options:\n",
    "                Y.append([a - y[1] + a * option_1, y[0] + a * option_2, y[2] + pi/2])\n",
    "\n",
    "        # rotate by -pi/2\n",
    "        options = [-1,0,1]\n",
    "        for option_1 in options:\n",
    "            for option_2 in options:\n",
    "                Y.append([y[1] + a * option_1, -y[0] + a + a * option_2, y[2] - pi/2])\n",
    "\n",
    "        distances = []\n",
    "        for y_new in Y: \n",
    "            distances.append(dist(x,y_new))\n",
    "\n",
    "        return min(distances)\n",
    "    return distance_C4"
   ]
  },
  {
   "cell_type": "code",
   "execution_count": 7,
   "id": "ff19818d",
   "metadata": {},
   "outputs": [],
   "source": [
    "# isometries that allow rotation up to pi/2\n",
    "def generate_c4_isoms(n_isos, a):\n",
    "    X = list(a * np.random.random(n_isos)) \n",
    "    Y = list(a * np.random.random(n_isos)) \n",
    "    theta = list(pi/2 * np.random.random(n_isos)) \n",
    "    \n",
    "    isoms = []\n",
    "    for i in range(n_isos):\n",
    "        isoms.append((X[i],Y[i],theta[i]))\n",
    "        \n",
    "    return isoms"
   ]
  },
  {
   "cell_type": "code",
   "execution_count": 8,
   "id": "c8dabb3c",
   "metadata": {},
   "outputs": [],
   "source": [
    "def C3_wrapper(a):   \n",
    "    def distance_C3(x, y):\n",
    "\n",
    "        # no translation in rotation axis\n",
    "        Y = [y] # no translation in any axis\n",
    "        for i in [1,-1]:\n",
    "            Y.append((y[0], y[1]+ i * (3**0.5) * a, y[2])) # front and back\n",
    "            Y.append((y[0] + i * (3/2) * a, y[1] - (3**0.5)/2 * a, y[2])) # LB and RF\n",
    "            Y.append((y[0] + i * (3/2) * a, y[1] + (3**0.5)/2 * a, y[2])) # LF and RB\n",
    "\n",
    "        # rotate by 2pi/3\n",
    "        Y.append((-1/2 * y[0] - (3**0.5)/2 * y[1], -1/2 * y[1] + (3**0.5)/2 * y[0], y[2] + 2*pi/3)) # only rotation by 2pi/3\n",
    "        for i in [1,-1]:\n",
    "            y1 = -1/2 * y[0] - (3**0.5)/2 * y[1]\n",
    "            y2 = -1/2 * y[1] + (3**0.5)/2 * y[0] \n",
    "            Y.append((y1, y2 + i * (3**0.5) * a, y[2] + 2*pi/3)) # front and back\n",
    "            Y.append((y1 + i * (3/2) * a, y2 - (3**0.5)/2 * a, y[2] + 2*pi/3)) # LB and RF\n",
    "            Y.append((y1 + i * (3/2) * a, y2 + (3**0.5)/2 * a, y[2] + 2*pi/3)) # LF and RB    \n",
    "\n",
    "        # rotate by -2pi/3\n",
    "        Y.append((-1/2 * y[0] + (3**0.5)/2 * y[1], -1/2 * y[1] - (3**0.5)/2 * y[0], y[2] - 2*pi/3)) # only rotation by -2pi/3\n",
    "        for i in [1,-1]:\n",
    "            y1 = -1/2 * y[0]+ (3**0.5)/2 * y[1]\n",
    "            y2 = -1/2 * y[1] - (3**0.5)/2 * y[0]\n",
    "            Y.append((y1, y2 + i * (3**0.5) * a, y[2] - 2*pi/3)) # front and back\n",
    "            Y.append((y1 + i * (3/2) * a, y2 - (3**0.5)/2 * a, y[2] - 2*pi/3)) # LB and RF\n",
    "            Y.append((y1 + i * (3/2) * a, y2 + (3**0.5)/2 * a, y[2] - 2*pi/3)) # LF and RB   \n",
    "\n",
    "        distances = []\n",
    "        for y_new in Y: \n",
    "            distances.append(dist(x,y_new))\n",
    "\n",
    "        return min(distances)\n",
    "    return distance_C3"
   ]
  },
  {
   "cell_type": "code",
   "execution_count": 9,
   "id": "67f87b75",
   "metadata": {},
   "outputs": [],
   "source": [
    "# allow only for rotations up to 2pi/3\n",
    "# we first sample from a rectangular patch of the plane and then cut off the corners to create a hexagonal shape\n",
    "\n",
    "def generate_c3_isoms(n_isos, a):\n",
    "    X = list(2 * a * np.random.random(2 * n_isos) - a)  \n",
    "    Y = list((3**0.5) * a * np.random.random(2 * n_isos) - (3**0.5)/2 * a)\n",
    "    theta = list(2*pi/3 * np.random.random(2 * n_isos))\n",
    "    \n",
    "    i = 0\n",
    "    hexagon = []\n",
    "    while len(hexagon) < n_isos:\n",
    "        if (Y[i] > -(3**0.5) * a + (3**0.5) * X[i]) and (Y[i] > -(3**0.5) * a - (3**0.5) * X[i]) and (Y[i] < (3**0.5) * a + (3**0.5) * X[i]) and (Y[i] < (3**0.5) * a - (3**0.5) * X[i]):  \n",
    "            hexagon.append((X[i], Y[i], theta[i]))\n",
    "        i = i + 1\n",
    "    \n",
    "    return hexagon"
   ]
  },
  {
   "cell_type": "code",
   "execution_count": 20,
   "id": "5e72468f",
   "metadata": {},
   "outputs": [],
   "source": [
    "def C6_wrapper(a):   \n",
    "    def distance_C6(x, y):\n",
    "\n",
    "        # no translation in rotation axis\n",
    "        Y = [y] # no translation in any axis\n",
    "        for i in [1,-1]:\n",
    "            Y.append((y[0], y[1] + i * (3**0.5) * a, y[2])) # front and back\n",
    "            Y.append((y[0] + i * (3/2) * a, y[1] - (3**0.5)/2 * a, y[2])) # LB and RF\n",
    "            Y.append((y[0] + i * (3/2) * a, y[1] + (3**0.5)/2 * a, y[2])) # LF and RB\n",
    "\n",
    "        # rotation by pi/3\n",
    "        Y.append((1/2 * y[0] - (3**0.5)/2 * y[1], 1/2 * y[1] + (3**0.5)/2 * y[0], y[2] + pi/3)) # only rotation by 2pi/3\n",
    "        for i in [1,-1]:\n",
    "            y1 = 1/2 * y[0] - (3**0.5)/2 * y[1]\n",
    "            y2 = 1/2 * y[1] + (3**0.5)/2 * y[0] \n",
    "            Y.append((y1, y2 + i * (3**0.5) * a, y[2] + 2*pi/3)) # front and back\n",
    "            Y.append((y1 + i * (3/2) * a, y2 - (3**0.5)/2 * a, y[2] + pi/3)) # LB and RF\n",
    "            Y.append((y1 + i * (3/2) * a, y2 + (3**0.5)/2 * a, y[2] + pi/3)) # LF and RB    \n",
    "\n",
    "        # rotation by -pi/3\n",
    "        Y.append((1/2 * y[0] + (3**0.5)/2 * y[1], 1/2 * y[1] - (3**0.5)/2 * y[0], y[2] - pi/3)) # only rotation by -2pi/3\n",
    "        for i in [1,-1]:\n",
    "            y1 = 1/2 * y[0]+ (3**0.5)/2 * y[1]\n",
    "            y2 = 1/2 * y[1] - (3**0.5)/2 * y[0]\n",
    "            Y.append((y1, y2 + i * (3**0.5) * a, y[2] - 2*pi/3)) # front and back\n",
    "            Y.append((y1 + i * (3/2) * a, y2 - (3**0.5)/2 * a, y[2] - pi/3)) # LB and RF\n",
    "            Y.append((y1 + i * (3/2) * a, y2 + (3**0.5)/2 * a, y[2] - pi/3)) # LF and RB   \n",
    "\n",
    "        distances = []\n",
    "        for y_new in Y: \n",
    "            distances.append(dist(x,y_new))\n",
    "\n",
    "        return min(distances)\n",
    "    return distance_C6"
   ]
  },
  {
   "cell_type": "code",
   "execution_count": 11,
   "id": "a80798e1",
   "metadata": {},
   "outputs": [],
   "source": [
    "# only allow rotation up to pi/3\n",
    "def generate_c6_isoms(n_isos, a):\n",
    "    X = list(2 * a * np.random.random(2 * n_isos) - a)  \n",
    "    Y = list((3**0.5) * a * np.random.random(2 * n_isos) - (3**0.5)/2 * a)\n",
    "    theta = list(pi/3 * np.random.random(2 * n_isos))\n",
    "    \n",
    "    i = 0\n",
    "    hexagon = []\n",
    "    while len(hexagon) < n_isos:\n",
    "        if (Y[i] > -(3**0.5) * a + (3**0.5) * X[i]) and (Y[i] > -(3**0.5) * a - (3**0.5) * X[i]) and (Y[i] < (3**0.5) * a + (3**0.5) * X[i]) and (Y[i] < (3**0.5) * a - (3**0.5) * X[i]):  \n",
    "            hexagon.append((X[i], Y[i], theta[i]))\n",
    "        i = i + 1\n",
    "    \n",
    "    return hexagon"
   ]
  },
  {
   "cell_type": "markdown",
   "id": "7fd33d9d",
   "metadata": {},
   "source": [
    "# Comparing ideal distances with pixel distances"
   ]
  },
  {
   "cell_type": "markdown",
   "id": "c7271254",
   "metadata": {},
   "source": [
    "Given an image, a lens size, and a translation, this function returns a snapshot after the translation is performed."
   ]
  },
  {
   "cell_type": "code",
   "execution_count": 12,
   "id": "0344fff4",
   "metadata": {},
   "outputs": [],
   "source": [
    "def translation_snapshot(img, lens_sz, translation):\n",
    "    (a,b) = translation \n",
    "    translation = (-a,-b)\n",
    "    (x,y) = upper_left_center(img, translation)\n",
    "    (length, height) = img.size\n",
    "    \n",
    "    lens_corner_x = x - lens_sz/2.0 \n",
    "    lens_corner_y = y - lens_sz/2.0 \n",
    "    ret_img = img.crop((lens_corner_x,lens_corner_y, lens_corner_x+lens_sz, lens_corner_y+lens_sz))\n",
    "    \n",
    "    #make sure didn't fall off of the image\n",
    "    (ret_length, ret_height) = ret_img.size\n",
    "    if (lens_corner_x<0 or lens_corner_y<0 or lens_corner_x+lens_sz>length or lens_corner_y+lens_sz>height):\n",
    "        print(\"I came off the page!\")\n",
    "        return False\n",
    "    return ret_img"
   ]
  },
  {
   "cell_type": "code",
   "execution_count": 13,
   "id": "0c519e09",
   "metadata": {},
   "outputs": [],
   "source": [
    "def upper_left_center(img, center):\n",
    "    (x,y) = center\n",
    "    (l, h) = img.size\n",
    "    return (l/2.0+x , h/2.0 - y) "
   ]
  },
  {
   "cell_type": "code",
   "execution_count": 14,
   "id": "f5e24c03",
   "metadata": {},
   "outputs": [],
   "source": [
    "def create_snapshot(img, lens_sz, isometry):\n",
    "    (x,y,rotation) = isometry\n",
    "    translation = (x,y)\n",
    "    # turn from radian to degree\n",
    "    rotation = 57.2958*rotation\n",
    "    rot_img = img.rotate(rotation)\n",
    "    return translation_snapshot(rot_img, lens_sz, translation)"
   ]
  },
  {
   "cell_type": "code",
   "execution_count": 15,
   "id": "c721fe34",
   "metadata": {},
   "outputs": [],
   "source": [
    " def pixel_wrapper():\n",
    "    def image_euclidean_distance(img1, img2):\n",
    "        arr1 = np.asarray(img1)\n",
    "        arr1 = arr1.reshape(-1)\n",
    "        arr2 = np.asarray(img2)\n",
    "        arr2 = arr2.reshape(-1)\n",
    "        return dist(arr1, arr2)\n",
    "    return image_euclidean_distance"
   ]
  },
  {
   "cell_type": "markdown",
   "id": "1ce792cd",
   "metadata": {},
   "source": [
    "distance_lst() takes a list of points and a metric, and returns a list of all the pairwise distances between the points."
   ]
  },
  {
   "cell_type": "code",
   "execution_count": 16,
   "id": "a26c09ec",
   "metadata": {},
   "outputs": [],
   "source": [
    "def distance_lst(lst, metric):\n",
    "    if len(lst)==2:\n",
    "        return [metric(lst[0], lst[1])]\n",
    "    if len(lst)<2:\n",
    "        return []\n",
    "    return first_slot_lst(lst, metric) + distance_lst(lst[1:], metric)"
   ]
  },
  {
   "cell_type": "markdown",
   "id": "a29c66b4",
   "metadata": {},
   "source": [
    "first_slot_lst is a helper function for distance_list()"
   ]
  },
  {
   "cell_type": "code",
   "execution_count": 17,
   "id": "521eb441",
   "metadata": {},
   "outputs": [],
   "source": [
    "def first_slot_lst(lst, metric):\n",
    "    ret_lst = []\n",
    "    x = lst[0]\n",
    "    new_list = lst[1:]\n",
    "    for i in new_list:\n",
    "        ret_lst.append(metric(x, i))\n",
    "    return ret_lst"
   ]
  },
  {
   "cell_type": "code",
   "execution_count": 18,
   "id": "898bdb21",
   "metadata": {},
   "outputs": [],
   "source": [
    "def normalize(v):\n",
    "    norm = np.linalg.norm(v)\n",
    "    if norm == 0: \n",
    "        return v\n",
    "    return v / norm"
   ]
  },
  {
   "cell_type": "code",
   "execution_count": 86,
   "id": "678d6067",
   "metadata": {},
   "outputs": [
    {
     "data": {
      "text/plain": [
       "0.46571541714459497"
      ]
     },
     "execution_count": 86,
     "metadata": {},
     "output_type": "execute_result"
    }
   ],
   "source": [
    "# Grab image from files\n",
    "img = Image.open('images/C4pinwheel.png')\n",
    "img = img.convert('L')\n",
    "img = img.filter(ImageFilter.BLUR)\n",
    "\n",
    "# lens size, how much to stretch fund domain by\n",
    "pixel_scale = 40\n",
    "a = 1\n",
    "n_isoms = 500\n",
    "c4_isom = generate_c4_isoms(n_isoms,a)\n",
    "\n",
    "# scale the isometries by pixel_scale so they can be used on the image\n",
    "scaled_c4_isom = c4_isom\n",
    "for i in range(len(c4_isom)):\n",
    "    e = c4_isom[i]\n",
    "    scaled_c4_isom[i] = (pixel_scale*e[0], pixel_scale*e[1], e[2])\n",
    "\n",
    "# create list of images taken after isometries\n",
    "c4_isom_images = []\n",
    "for isom in scaled_c4_isom:\n",
    "    c4_isom_images.append(create_snapshot(img, pixel_scale, isom))\n",
    "\n",
    "# place all the pairwise distances in arrays and normalize them for comparison\n",
    "C4_ideal_func = C4_wrapper(a)\n",
    "C4_pixel_func = pixel_wrapper()\n",
    "c4_ideal_dist_lst = distance_lst(c4_isom, C4_ideal_func) \n",
    "c4_pixel_dist_lst = distance_lst(c4_isom_images, C4_pixel_func) \n",
    "c4_ideal_dist_lst = normalize(c4_ideal_dist_lst)\n",
    "c4_pixel_dist_lst = normalize(c4_pixel_dist_lst)\n",
    "\n",
    "dist(c4_ideal_dist_lst,c4_pixel_dist_lst)"
   ]
  },
  {
   "cell_type": "code",
   "execution_count": 21,
   "id": "e6092315",
   "metadata": {},
   "outputs": [
    {
     "data": {
      "text/plain": [
       "0.5456013502386748"
      ]
     },
     "execution_count": 21,
     "metadata": {},
     "output_type": "execute_result"
    }
   ],
   "source": [
    "# Grab image from files\n",
    "img = Image.open('images/C6 star.png')\n",
    "img = img.convert('L')\n",
    "img = img.filter(ImageFilter.BLUR)\n",
    "\n",
    "# lens size, how much to stretch fund domain by\n",
    "pixel_scale = 60\n",
    "a = 1\n",
    "n_isoms = 500\n",
    "c6_isom = generate_c6_isoms(n_isoms,a)\n",
    "\n",
    "# scale the isometries by pixel_scale so they can be used on the image\n",
    "scaled_c6_isom = c6_isom\n",
    "for i in range(len(c6_isom)):\n",
    "    e = c6_isom[i]\n",
    "    scaled_c6_isom[i] = (pixel_scale*e[0], pixel_scale*e[1], e[2])\n",
    "\n",
    "# create list of images taken after isometries\n",
    "c6_isom_images = []\n",
    "for isom in scaled_c6_isom:\n",
    "    c6_isom_images.append(create_snapshot(img, pixel_scale, isom))\n",
    "\n",
    "# place all the pairwise distances in arrays and normalize them for comparison\n",
    "C6_ideal_func = C6_wrapper(a)\n",
    "C6_pixel_func = pixel_wrapper()\n",
    "c6_ideal_dist_lst = distance_lst(c6_isom, C6_ideal_func) \n",
    "c6_pixel_dist_lst = distance_lst(c6_isom_images, C6_pixel_func) \n",
    "c6_ideal_dist_lst = normalize(c6_ideal_dist_lst)\n",
    "c6_pixel_dist_lst = normalize(c6_pixel_dist_lst)\n",
    "\n",
    "dist(c6_ideal_dist_lst,c6_pixel_dist_lst)"
   ]
  },
  {
   "cell_type": "code",
   "execution_count": 23,
   "id": "21876be4",
   "metadata": {},
   "outputs": [
    {
     "data": {
      "text/plain": [
       "0.458969742635637"
      ]
     },
     "execution_count": 23,
     "metadata": {},
     "output_type": "execute_result"
    }
   ],
   "source": [
    "# Grab image from files\n",
    "img = Image.open('images/C3gradient.png')\n",
    "img = img.convert('L')\n",
    "img = img.filter(ImageFilter.BLUR)\n",
    "\n",
    "# lens size, how much to stretch fund domain by\n",
    "pixel_scale = 65\n",
    "a = 1\n",
    "n_isoms = 500\n",
    "c3_isom = generate_c3_isoms(n_isoms,a)\n",
    "\n",
    "# scale the isometries by pixel_scale so they can be used on the image\n",
    "scaled_c3_isom = c3_isom\n",
    "for i in range(len(c3_isom)):\n",
    "    e = c3_isom[i]\n",
    "    scaled_c3_isom[i] = (pixel_scale*e[0], pixel_scale*e[1], e[2])\n",
    "\n",
    "# create list of images taken after isometries\n",
    "c3_isom_images = []\n",
    "for isom in scaled_c3_isom:\n",
    "    c3_isom_images.append(create_snapshot(img, pixel_scale, isom))\n",
    "\n",
    "# place all the pairwise distances in arrays and normalize them for comparison\n",
    "C3_ideal_func = C3_wrapper(a)\n",
    "C3_pixel_func = pixel_wrapper()\n",
    "c3_ideal_dist_lst = distance_lst(c3_isom, C3_ideal_func) \n",
    "c3_pixel_dist_lst = distance_lst(c3_isom_images, C3_pixel_func) \n",
    "c3_ideal_dist_lst = normalize(c3_ideal_dist_lst)\n",
    "c3_pixel_dist_lst = normalize(c3_pixel_dist_lst)\n",
    "\n",
    "dist(c3_ideal_dist_lst,c3_pixel_dist_lst)"
   ]
  },
  {
   "cell_type": "code",
   "execution_count": 26,
   "id": "5f71e6c3",
   "metadata": {},
   "outputs": [
    {
     "data": {
      "text/plain": [
       "0.47334755752503926"
      ]
     },
     "execution_count": 26,
     "metadata": {},
     "output_type": "execute_result"
    }
   ],
   "source": [
    "# Grab image from files\n",
    "img = Image.open('images/C2bow.png')\n",
    "img = img.convert('L')\n",
    "img = img.filter(ImageFilter.BLUR)\n",
    "\n",
    "# lens size, how much to stretch fund domain by\n",
    "pixel_scale = 50\n",
    "a = (0,-2)\n",
    "b =(2,1)\n",
    "n_isoms = 500\n",
    "c2_isom = generate_c2_isoms(n_isoms,a, b)\n",
    "\n",
    "# scale the isometries by pixel_scale so they can be used on the image\n",
    "scaled_c2_isom = c2_isom\n",
    "for i in range(len(c2_isom)):\n",
    "    e = c2_isom[i]\n",
    "    scaled_c2_isom[i] = (pixel_scale*e[0], pixel_scale*e[1], e[2])\n",
    "\n",
    "# create list of images taken after isometries\n",
    "c2_isom_images = []\n",
    "for isom in scaled_c2_isom:\n",
    "    c2_isom_images.append(create_snapshot(img, pixel_scale, isom))\n",
    "\n",
    "# place all the pairwise distances in arrays and normalize them for comparison\n",
    "C2_ideal_func = C2_wrapper(a,b)\n",
    "C2_pixel_func = pixel_wrapper()\n",
    "c2_ideal_dist_lst = distance_lst(c2_isom, C2_ideal_func) \n",
    "c2_pixel_dist_lst = distance_lst(c2_isom_images, C2_pixel_func) \n",
    "c2_ideal_dist_lst = normalize(c2_ideal_dist_lst)\n",
    "c2_pixel_dist_lst = normalize(c2_pixel_dist_lst)\n",
    "\n",
    "dist(c2_ideal_dist_lst,c2_pixel_dist_lst)"
   ]
  },
  {
   "cell_type": "code",
   "execution_count": 27,
   "id": "0f9959d1",
   "metadata": {},
   "outputs": [],
   "source": [
    "img = Image.open('images/C1music.png')\n",
    "img = img.convert('L')\n",
    "img = img.filter(ImageFilter.BLUR)\n",
    "img.show()"
   ]
  },
  {
   "cell_type": "code",
   "execution_count": 28,
   "id": "3c191fd3",
   "metadata": {},
   "outputs": [
    {
     "data": {
      "text/plain": [
       "0.48091055597818766"
      ]
     },
     "execution_count": 28,
     "metadata": {},
     "output_type": "execute_result"
    }
   ],
   "source": [
    "# Grab image from files\n",
    "img = Image.open('images/C1music.png')\n",
    "img = img.convert('L')\n",
    "img = img.filter(ImageFilter.BLUR)\n",
    "\n",
    "# lens size, how much to stretch fund domain by\n",
    "pixel_scale = 35\n",
    "a = (6,1)\n",
    "b =(-1,6)\n",
    "n_isoms = 500\n",
    "c1_isom = generate_c1_isoms(n_isoms,a, b)\n",
    "\n",
    "# scale the isometries by pixel_scale so they can be used on the image\n",
    "scaled_c1_isom = c1_isom\n",
    "for i in range(len(c1_isom)):\n",
    "    e = c1_isom[i]\n",
    "    scaled_c1_isom[i] = (pixel_scale*e[0], pixel_scale*e[1], e[2])\n",
    "\n",
    "# create list of images taken after isometries\n",
    "c1_isom_images = []\n",
    "for isom in scaled_c1_isom:\n",
    "    c1_isom_images.append(create_snapshot(img, pixel_scale, isom))\n",
    "\n",
    "# place all the pairwise distances in arrays and normalize them for comparison\n",
    "C1_ideal_func = C1_wrapper(a,b)\n",
    "C1_pixel_func = pixel_wrapper()\n",
    "c1_ideal_dist_lst = distance_lst(c1_isom, C1_ideal_func) \n",
    "c1_pixel_dist_lst = distance_lst(c1_isom_images, C1_pixel_func) \n",
    "c1_ideal_dist_lst = normalize(c1_ideal_dist_lst)\n",
    "c1_pixel_dist_lst = normalize(c1_pixel_dist_lst)\n",
    "\n",
    "dist(c1_ideal_dist_lst,c1_pixel_dist_lst)"
   ]
  },
  {
   "cell_type": "code",
   "execution_count": null,
   "id": "1c696732",
   "metadata": {},
   "outputs": [],
   "source": []
  }
 ],
 "metadata": {
  "kernelspec": {
   "display_name": "Python 3 (ipykernel)",
   "language": "python",
   "name": "python3"
  },
  "language_info": {
   "codemirror_mode": {
    "name": "ipython",
    "version": 3
   },
   "file_extension": ".py",
   "mimetype": "text/x-python",
   "name": "python",
   "nbconvert_exporter": "python",
   "pygments_lexer": "ipython3",
   "version": "3.11.3"
  }
 },
 "nbformat": 4,
 "nbformat_minor": 5
}
