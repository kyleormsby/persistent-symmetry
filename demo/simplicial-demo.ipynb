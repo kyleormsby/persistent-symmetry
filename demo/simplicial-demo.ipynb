{
 "cells": [
  {
   "cell_type": "markdown",
   "id": "0bf02a70",
   "metadata": {},
   "source": [
    "SageMath automates the creation of simplicial complexes. See https://doc.sagemath.org/html/en/reference/topology/sage/topology/simplicial_complex.html for documentation.\n",
    "\n",
    "Sage specifies simplicial complexes by their maximal simplices. In the below example, we build the triangle K = {12,23,31,1,2,3}."
   ]
  },
  {
   "cell_type": "code",
   "execution_count": 4,
   "id": "3a191976",
   "metadata": {},
   "outputs": [
    {
     "data": {
      "text/plain": [
       "Simplicial complex with vertex set (1, 2, 3) and facets {(1, 2), (1, 3), (2, 3)}"
      ]
     },
     "execution_count": 4,
     "metadata": {},
     "output_type": "execute_result"
    }
   ],
   "source": [
    "K = SimplicialComplex([[1,2],[2,3],[3,1]])\n",
    "K"
   ]
  },
  {
   "cell_type": "markdown",
   "id": "3d514f1d",
   "metadata": {},
   "source": [
    "Beware: Sage uses the term 'facet' for maximal simplices.\n",
    "\n",
    "Computing the simplicial homology of this complex is super easy:"
   ]
  },
  {
   "cell_type": "code",
   "execution_count": 5,
   "id": "f6002ee9",
   "metadata": {},
   "outputs": [
    {
     "data": {
      "text/plain": [
       "{0: Z, 1: Z}"
      ]
     },
     "execution_count": 5,
     "metadata": {},
     "output_type": "execute_result"
    }
   ],
   "source": [
    "K.homology(reduced=False)"
   ]
  },
  {
   "cell_type": "markdown",
   "id": "223b13ac",
   "metadata": {},
   "source": [
    "This output says that the homology of K with integer coefficients is Z in degree 0 and a single copy of Z in degree 1. We can also do computations over other base rings:"
   ]
  },
  {
   "cell_type": "code",
   "execution_count": 6,
   "id": "2c16366e",
   "metadata": {},
   "outputs": [
    {
     "data": {
      "text/plain": [
       "{0: Vector space of dimension 1 over Finite Field of size 2,\n",
       " 1: Vector space of dimension 1 over Finite Field of size 2}"
      ]
     },
     "execution_count": 6,
     "metadata": {},
     "output_type": "execute_result"
    }
   ],
   "source": [
    "K.homology(reduced=False, base_ring=GF(2)) #GF(p) is sage-speak for Z/pZ"
   ]
  },
  {
   "cell_type": "code",
   "execution_count": 7,
   "id": "31892ba4",
   "metadata": {},
   "outputs": [
    {
     "data": {
      "text/plain": [
       "{0: Vector space of dimension 1 over Finite Field of size 3,\n",
       " 1: Vector space of dimension 1 over Finite Field of size 3}"
      ]
     },
     "execution_count": 7,
     "metadata": {},
     "output_type": "execute_result"
    }
   ],
   "source": [
    "K.homology(reduced=False, base_ring=GF(3))"
   ]
  },
  {
   "cell_type": "code",
   "execution_count": 8,
   "id": "cd75906f",
   "metadata": {},
   "outputs": [
    {
     "data": {
      "text/plain": [
       "{0: Vector space of dimension 1 over Rational Field,\n",
       " 1: Vector space of dimension 1 over Rational Field}"
      ]
     },
     "execution_count": 8,
     "metadata": {},
     "output_type": "execute_result"
    }
   ],
   "source": [
    "K.homology(reduced=False, base_ring=QQ)"
   ]
  },
  {
   "cell_type": "markdown",
   "id": "9820b853",
   "metadata": {},
   "source": [
    "Noting that $K\\cong S^1$ is a circle and that the torus is $S^1\\times S^1$, we can build the torus as a simplicial complex:"
   ]
  },
  {
   "cell_type": "code",
   "execution_count": 9,
   "id": "2d94a9c6",
   "metadata": {},
   "outputs": [
    {
     "data": {
      "text/plain": [
       "Simplicial complex with 9 vertices and 18 facets"
      ]
     },
     "execution_count": 9,
     "metadata": {},
     "output_type": "execute_result"
    }
   ],
   "source": [
    "T = K.product(K)\n",
    "T"
   ]
  },
  {
   "cell_type": "code",
   "execution_count": 20,
   "id": "10fe5f3f",
   "metadata": {},
   "outputs": [
    {
     "data": {
      "text/plain": [
       "{-1: {()},\n",
       " 0: {('L1R1',),\n",
       "  ('L1R2',),\n",
       "  ('L1R3',),\n",
       "  ('L2R1',),\n",
       "  ('L2R2',),\n",
       "  ('L2R3',),\n",
       "  ('L3R1',),\n",
       "  ('L3R2',),\n",
       "  ('L3R3',)},\n",
       " 1: {('L1R1', 'L1R2'),\n",
       "  ('L1R1', 'L1R3'),\n",
       "  ('L1R1', 'L2R1'),\n",
       "  ('L1R1', 'L2R2'),\n",
       "  ('L1R1', 'L2R3'),\n",
       "  ('L1R1', 'L3R1'),\n",
       "  ('L1R1', 'L3R2'),\n",
       "  ('L1R1', 'L3R3'),\n",
       "  ('L1R2', 'L1R3'),\n",
       "  ('L1R2', 'L2R2'),\n",
       "  ('L1R2', 'L2R3'),\n",
       "  ('L1R2', 'L3R2'),\n",
       "  ('L1R2', 'L3R3'),\n",
       "  ('L1R3', 'L2R3'),\n",
       "  ('L1R3', 'L3R3'),\n",
       "  ('L2R1', 'L2R2'),\n",
       "  ('L2R1', 'L2R3'),\n",
       "  ('L2R1', 'L3R1'),\n",
       "  ('L2R1', 'L3R2'),\n",
       "  ('L2R1', 'L3R3'),\n",
       "  ('L2R2', 'L2R3'),\n",
       "  ('L2R2', 'L3R2'),\n",
       "  ('L2R2', 'L3R3'),\n",
       "  ('L2R3', 'L3R3'),\n",
       "  ('L3R1', 'L3R2'),\n",
       "  ('L3R1', 'L3R3'),\n",
       "  ('L3R2', 'L3R3')},\n",
       " 2: {('L1R1', 'L1R2', 'L2R2'),\n",
       "  ('L1R1', 'L1R2', 'L3R2'),\n",
       "  ('L1R1', 'L1R3', 'L2R3'),\n",
       "  ('L1R1', 'L1R3', 'L3R3'),\n",
       "  ('L1R1', 'L2R1', 'L2R2'),\n",
       "  ('L1R1', 'L2R1', 'L2R3'),\n",
       "  ('L1R1', 'L3R1', 'L3R2'),\n",
       "  ('L1R1', 'L3R1', 'L3R3'),\n",
       "  ('L1R2', 'L1R3', 'L2R3'),\n",
       "  ('L1R2', 'L1R3', 'L3R3'),\n",
       "  ('L1R2', 'L2R2', 'L2R3'),\n",
       "  ('L1R2', 'L3R2', 'L3R3'),\n",
       "  ('L2R1', 'L2R2', 'L3R2'),\n",
       "  ('L2R1', 'L2R3', 'L3R3'),\n",
       "  ('L2R1', 'L3R1', 'L3R2'),\n",
       "  ('L2R1', 'L3R1', 'L3R3'),\n",
       "  ('L2R2', 'L2R3', 'L3R3'),\n",
       "  ('L2R2', 'L3R2', 'L3R3')}}"
      ]
     },
     "execution_count": 20,
     "metadata": {},
     "output_type": "execute_result"
    }
   ],
   "source": [
    "T.faces()"
   ]
  },
  {
   "cell_type": "code",
   "execution_count": 10,
   "id": "8428a077",
   "metadata": {},
   "outputs": [
    {
     "data": {
      "text/plain": [
       "{0: Z, 1: Z x Z, 2: Z}"
      ]
     },
     "execution_count": 10,
     "metadata": {},
     "output_type": "execute_result"
    }
   ],
   "source": [
    "T.homology(reduced=False)"
   ]
  },
  {
   "cell_type": "code",
   "execution_count": 12,
   "id": "574d5119",
   "metadata": {},
   "outputs": [
    {
     "data": {
      "text/plain": [
       "{0: Vector space of dimension 1 over Finite Field of size 2,\n",
       " 1: Vector space of dimension 2 over Finite Field of size 2,\n",
       " 2: Vector space of dimension 1 over Finite Field of size 2}"
      ]
     },
     "execution_count": 12,
     "metadata": {},
     "output_type": "execute_result"
    }
   ],
   "source": [
    "T.homology(reduced=False, base_ring=GF(2))"
   ]
  },
  {
   "cell_type": "markdown",
   "id": "1fc01cdf",
   "metadata": {},
   "source": [
    "Sage also has the minimal triangulation of the Klein bottle built in:"
   ]
  },
  {
   "cell_type": "code",
   "execution_count": 13,
   "id": "699c2d9f",
   "metadata": {},
   "outputs": [
    {
     "data": {
      "text/plain": [
       "{0: Z, 1: Z x C2, 2: 0}"
      ]
     },
     "execution_count": 13,
     "metadata": {},
     "output_type": "execute_result"
    }
   ],
   "source": [
    "Klein = simplicial_complexes.KleinBottle()\n",
    "Klein.homology(reduced=False)"
   ]
  },
  {
   "cell_type": "markdown",
   "id": "80f53054",
   "metadata": {},
   "source": [
    "Things just got weird! That C2 is a cyclic group of order 2. Let's go back to nice safe vector spaces:"
   ]
  },
  {
   "cell_type": "code",
   "execution_count": 14,
   "id": "4fc6ca54",
   "metadata": {},
   "outputs": [
    {
     "data": {
      "text/plain": [
       "{0: Vector space of dimension 1 over Rational Field,\n",
       " 1: Vector space of dimension 1 over Rational Field,\n",
       " 2: Vector space of dimension 0 over Rational Field}"
      ]
     },
     "execution_count": 14,
     "metadata": {},
     "output_type": "execute_result"
    }
   ],
   "source": [
    "Klein.homology(reduced=False, base_ring=QQ)"
   ]
  },
  {
   "cell_type": "code",
   "execution_count": 15,
   "id": "555bc7ab",
   "metadata": {},
   "outputs": [
    {
     "data": {
      "text/plain": [
       "{0: Vector space of dimension 1 over Finite Field of size 2,\n",
       " 1: Vector space of dimension 2 over Finite Field of size 2,\n",
       " 2: Vector space of dimension 1 over Finite Field of size 2}"
      ]
     },
     "execution_count": 15,
     "metadata": {},
     "output_type": "execute_result"
    }
   ],
   "source": [
    "Klein.homology(reduced=False, base_ring=GF(2))"
   ]
  },
  {
   "cell_type": "markdown",
   "id": "6b8015db",
   "metadata": {},
   "source": [
    "With $\\mathbb{Z}/2\\mathbb{Z}$ coefficients, this looks like the torus, but with $\\mathbb{Q}$ coefficients it does not!"
   ]
  },
  {
   "cell_type": "code",
   "execution_count": 16,
   "id": "3e9a2aa2",
   "metadata": {},
   "outputs": [
    {
     "data": {
      "text/plain": [
       "{0: Vector space of dimension 1 over Finite Field of size 3,\n",
       " 1: Vector space of dimension 1 over Finite Field of size 3,\n",
       " 2: Vector space of dimension 0 over Finite Field of size 3}"
      ]
     },
     "execution_count": 16,
     "metadata": {},
     "output_type": "execute_result"
    }
   ],
   "source": [
    "Klein.homology(reduced=False, base_ring=GF(3))"
   ]
  },
  {
   "cell_type": "code",
   "execution_count": 17,
   "id": "f4b0a717",
   "metadata": {},
   "outputs": [
    {
     "data": {
      "text/plain": [
       "{0: Vector space of dimension 1 over Finite Field of size 17,\n",
       " 1: Vector space of dimension 1 over Finite Field of size 17,\n",
       " 2: Vector space of dimension 0 over Finite Field of size 17}"
      ]
     },
     "execution_count": 17,
     "metadata": {},
     "output_type": "execute_result"
    }
   ],
   "source": [
    "Klein.homology(reduced=False, base_ring=GF(17))"
   ]
  },
  {
   "cell_type": "markdown",
   "id": "1d5a4a66",
   "metadata": {},
   "source": [
    "What do you notice? What do you wonder? Key takeaway: homology with coefficients in $\\mathbb{Z}/p\\mathbb{Z}$ can see free and $p$-torsion portions of integral homology.\n",
    "\n",
    "Finally, let's observe that Sage can build and manipulate large-ish simplicial complexes efficiently:"
   ]
  },
  {
   "cell_type": "code",
   "execution_count": 18,
   "id": "6095239e",
   "metadata": {},
   "outputs": [
    {
     "data": {
      "text/plain": [
       "Simplicial complex with 72 vertices and 1728 facets"
      ]
     },
     "execution_count": 18,
     "metadata": {},
     "output_type": "execute_result"
    }
   ],
   "source": [
    "W = T.product(Klein)\n",
    "W"
   ]
  },
  {
   "cell_type": "code",
   "execution_count": 19,
   "id": "69c1ebda",
   "metadata": {},
   "outputs": [
    {
     "data": {
      "text/plain": [
       "{0: Vector space of dimension 1 over Finite Field of size 2,\n",
       " 1: Vector space of dimension 4 over Finite Field of size 2,\n",
       " 2: Vector space of dimension 6 over Finite Field of size 2,\n",
       " 3: Vector space of dimension 4 over Finite Field of size 2,\n",
       " 4: Vector space of dimension 1 over Finite Field of size 2}"
      ]
     },
     "execution_count": 19,
     "metadata": {},
     "output_type": "execute_result"
    }
   ],
   "source": [
    "W.homology(reduced=False, base_ring=GF(2))"
   ]
  },
  {
   "cell_type": "code",
   "execution_count": 20,
   "id": "723a7b51",
   "metadata": {},
   "outputs": [
    {
     "data": {
      "text/plain": [
       "{0: Vector space of dimension 1 over Finite Field of size 3,\n",
       " 1: Vector space of dimension 3 over Finite Field of size 3,\n",
       " 2: Vector space of dimension 3 over Finite Field of size 3,\n",
       " 3: Vector space of dimension 1 over Finite Field of size 3,\n",
       " 4: Vector space of dimension 0 over Finite Field of size 3}"
      ]
     },
     "execution_count": 20,
     "metadata": {},
     "output_type": "execute_result"
    }
   ],
   "source": [
    "W.homology(reduced=False, base_ring=GF(3))"
   ]
  },
  {
   "cell_type": "code",
   "execution_count": 21,
   "id": "742e8c7c",
   "metadata": {},
   "outputs": [
    {
     "data": {
      "text/plain": [
       "{0: Vector space of dimension 1 over Finite Field of size 5,\n",
       " 1: Vector space of dimension 3 over Finite Field of size 5,\n",
       " 2: Vector space of dimension 3 over Finite Field of size 5,\n",
       " 3: Vector space of dimension 1 over Finite Field of size 5,\n",
       " 4: Vector space of dimension 0 over Finite Field of size 5}"
      ]
     },
     "execution_count": 21,
     "metadata": {},
     "output_type": "execute_result"
    }
   ],
   "source": [
    "W.homology(reduced=False, base_ring=GF(5))"
   ]
  },
  {
   "cell_type": "code",
   "execution_count": 22,
   "id": "2c116ea2",
   "metadata": {},
   "outputs": [
    {
     "data": {
      "text/plain": [
       "{0: Vector space of dimension 1 over Rational Field,\n",
       " 1: Vector space of dimension 3 over Rational Field,\n",
       " 2: Vector space of dimension 3 over Rational Field,\n",
       " 3: Vector space of dimension 1 over Rational Field,\n",
       " 4: Vector space of dimension 0 over Rational Field}"
      ]
     },
     "execution_count": 22,
     "metadata": {},
     "output_type": "execute_result"
    }
   ],
   "source": [
    "W.homology(reduced=False, base_ring=QQ)"
   ]
  },
  {
   "cell_type": "code",
   "execution_count": 35,
   "id": "98135cce",
   "metadata": {},
   "outputs": [
    {
     "data": {
      "text/plain": [
       "{0: Z, 1: Z x Z x Z x C2, 2: Z x Z x Z x C2 x C2, 3: Z x C2, 4: 0}"
      ]
     },
     "execution_count": 35,
     "metadata": {},
     "output_type": "execute_result"
    }
   ],
   "source": [
    "W.homology(reduced=False) # Will this ever finish computing?"
   ]
  }
 ],
 "metadata": {
  "kernelspec": {
   "display_name": "SageMath 10.0",
   "language": "sage",
   "name": "sagemath-10.0"
  },
  "language_info": {
   "codemirror_mode": {
    "name": "ipython",
    "version": 3
   },
   "file_extension": ".py",
   "mimetype": "text/x-python",
   "name": "python",
   "nbconvert_exporter": "python",
   "pygments_lexer": "ipython3",
   "version": "3.11.1"
  }
 },
 "nbformat": 4,
 "nbformat_minor": 5
}
