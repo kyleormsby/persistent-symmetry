{
 "cells": [
  {
   "cell_type": "markdown",
   "id": "833c05eb",
   "metadata": {},
   "source": [
    "This notebook contains computations of the homology groups of the spaces $E(2)/\\Gamma$ where $\\Gamma$ is a wallpaper group. First note that for $S$ we get moduli space $T^3$ with homology\n",
    "$$\n",
    "  H_k(T^3;\\mathbb{Z})\\cong\n",
    "  \\begin{cases}\n",
    "    \\mathbb{Z} & k=0,3\\\\\n",
    "    \\mathbb{Z}^3 & k=1,2\\\\\n",
    "    0 & \\text{otherwise}.\n",
    "  \\end{cases}\n",
    "$$\n",
    "\n",
    "We use cellular homology to compute $H_1(E(2)/\\Gamma;\\mathbb{Z})$ for the other wallpaper groups $\\Gamma$, starting with $\\Gamma = S333$."
   ]
  },
  {
   "cell_type": "code",
   "execution_count": 9,
   "id": "eab4b7d6",
   "metadata": {},
   "outputs": [
    {
     "data": {
      "text/plain": [
       "                                   [ 0  1  1  0]      \n",
       "                                   [ 0  0  1  1]      \n",
       "                                   [ 0 -1  0  1]      \n",
       "            [-1  1 -1  0  0]       [ 0  1 -1  1]      \n",
       "            [ 1 -1  1  0  0]       [ 0 -1  1 -1]      \n",
       " 0 <-- C_0 <----------------- C_1 <-------------- C_2 <-- 0 "
      ]
     },
     "execution_count": 9,
     "metadata": {},
     "output_type": "execute_result"
    }
   ],
   "source": [
    "C333 = ChainComplex({1: matrix(ZZ,2,5,[-1,1,-1,0,0,1,-1,1,0,0]), 2: matrix(ZZ,5,4,[0,1,1,0,0,0,1,1,0,-1,0,1,0,1,-1,1,0,-1,1,-1])}, degree_of_differential=-1)\n",
    "ascii_art(C333)"
   ]
  },
  {
   "cell_type": "code",
   "execution_count": 10,
   "id": "84b242f5",
   "metadata": {},
   "outputs": [
    {
     "data": {
      "text/plain": [
       "Z x C3"
      ]
     },
     "execution_count": 10,
     "metadata": {},
     "output_type": "execute_result"
    }
   ],
   "source": [
    "C333.homology(deg=1)"
   ]
  },
  {
   "cell_type": "markdown",
   "id": "72bc660b",
   "metadata": {},
   "source": [
    "This means that $H_1(E(2)/S333;\\mathbb{Z})\\cong \\mathbb{Z}\\times \\mathbb{Z}/3$. With coefficients in a field $F$, we get first Betti number $1$ for $F$ not of characteristic $3$, and first Betti number $2$ for $F$ of characteristic $3$ (e.g., $F=\\mathbb{Z}/3$).\n",
    "\n",
    "We now move on to $\\Gamma = S442$."
   ]
  },
  {
   "cell_type": "code",
   "execution_count": 11,
   "id": "94d0df86",
   "metadata": {},
   "outputs": [
    {
     "data": {
      "text/plain": [
       "            [ 1 -1  0]      \n",
       "            [ 1  1  0]      \n",
       "            [ 0  0  0]      \n",
       " 0 <-- C_1 <----------- C_2 <-- 0 "
      ]
     },
     "execution_count": 11,
     "metadata": {},
     "output_type": "execute_result"
    }
   ],
   "source": [
    "C442 = ChainComplex({2: matrix(ZZ,3,3,[1,-1,0,1,1,0,0,0,0])}, degree_of_differential=-1)\n",
    "ascii_art(C442)"
   ]
  },
  {
   "cell_type": "code",
   "execution_count": 12,
   "id": "9c785f59",
   "metadata": {},
   "outputs": [
    {
     "data": {
      "text/plain": [
       "Z x C2"
      ]
     },
     "execution_count": 12,
     "metadata": {},
     "output_type": "execute_result"
    }
   ],
   "source": [
    "C442.homology(deg=1)"
   ]
  },
  {
   "cell_type": "markdown",
   "id": "fdf72546",
   "metadata": {},
   "source": [
    "This has first Betti number 2 in characteristic 2 but 1 in characteristic not 2.\n",
    "\n",
    "Next up: $\\Gamma = S2222$."
   ]
  },
  {
   "cell_type": "code",
   "execution_count": 13,
   "id": "17af3c64",
   "metadata": {},
   "outputs": [
    {
     "data": {
      "text/plain": [
       "            [2 0 0]      \n",
       "            [0 2 0]      \n",
       "            [0 0 0]      \n",
       " 0 <-- C_1 <-------- C_2 <-- 0 "
      ]
     },
     "execution_count": 13,
     "metadata": {},
     "output_type": "execute_result"
    }
   ],
   "source": [
    "C2222 = ChainComplex({2: matrix(ZZ,3,3,[2,0,0,0,2,0,0,0,0])},degree_of_differential=-1)\n",
    "ascii_art(C2222)"
   ]
  },
  {
   "cell_type": "code",
   "execution_count": 14,
   "id": "7f397280",
   "metadata": {},
   "outputs": [
    {
     "data": {
      "text/plain": [
       "Z x C2 x C2"
      ]
     },
     "execution_count": 14,
     "metadata": {},
     "output_type": "execute_result"
    }
   ],
   "source": [
    "C2222.homology(deg=1)"
   ]
  },
  {
   "cell_type": "markdown",
   "id": "49de131c",
   "metadata": {},
   "source": [
    "This has first Betti number 3 in characteristic 2, but first Betti number 1 in other characteristics.\n",
    "\n",
    "We have one more case: $\\Gamma = S632$."
   ]
  },
  {
   "cell_type": "code",
   "execution_count": 16,
   "id": "6d6e651f",
   "metadata": {},
   "outputs": [
    {
     "data": {
      "text/plain": [
       "                                   [ 0  1  0 -1]      \n",
       "                                   [ 0  0  1  1]      \n",
       "                                   [ 0  1 -1  0]      \n",
       "            [-1  1 -1 -1  1]       [ 0 -1  1  1]      \n",
       "            [ 1 -1  1  1 -1]       [ 0  1 -1 -1]      \n",
       " 0 <-- C_0 <----------------- C_1 <-------------- C_2 <-- 0 "
      ]
     },
     "execution_count": 16,
     "metadata": {},
     "output_type": "execute_result"
    }
   ],
   "source": [
    "C632 = ChainComplex({1: matrix(ZZ,2,5,[-1,1,-1,-1,1,1,-1,1,1,-1]), 2: matrix(ZZ,5,4,[0,1,0,-1,0,0,1,1,0,1,-1,0,0,-1,1,1,0,1,-1,-1])},degree_of_differential=-1)\n",
    "ascii_art(C632)"
   ]
  },
  {
   "cell_type": "code",
   "execution_count": 17,
   "id": "6b18a6cb",
   "metadata": {},
   "outputs": [
    {
     "data": {
      "text/plain": [
       "Z"
      ]
     },
     "execution_count": 17,
     "metadata": {},
     "output_type": "execute_result"
    }
   ],
   "source": [
    "C632.homology(deg=1)"
   ]
  },
  {
   "cell_type": "markdown",
   "id": "d6a15f89",
   "metadata": {},
   "source": [
    "This has first Betti number 1 in all characteristics."
   ]
  },
  {
   "cell_type": "markdown",
   "id": "20716543",
   "metadata": {},
   "source": [
    "Some scratch work for Angélica:"
   ]
  },
  {
   "cell_type": "code",
   "execution_count": 25,
   "id": "85731087",
   "metadata": {},
   "outputs": [
    {
     "data": {
      "text/plain": [
       "{1: 0, 2: C72}"
      ]
     },
     "execution_count": 25,
     "metadata": {},
     "output_type": "execute_result"
    }
   ],
   "source": [
    "CC = ChainComplex({1: matrix(ZZ,5,5,[1,1,1,1,1,1,0,0,0,-2,0,2,0,0,1,0,0,3,0,1,0,0,0,6,1])})\n",
    "CC.homology()"
   ]
  },
  {
   "cell_type": "code",
   "execution_count": 27,
   "id": "f9002593",
   "metadata": {},
   "outputs": [
    {
     "data": {
      "text/plain": [
       "{1: 0, 2: C36}"
      ]
     },
     "execution_count": 27,
     "metadata": {},
     "output_type": "execute_result"
    }
   ],
   "source": [
    "CC = ChainComplex({1: matrix(ZZ,4,4,[1,1,1,1,2,0,0,1,0,3,0,2,0,0,6,5])})\n",
    "CC.homology()"
   ]
  },
  {
   "cell_type": "code",
   "execution_count": 28,
   "id": "77bf6bd1",
   "metadata": {},
   "outputs": [
    {
     "data": {
      "text/plain": [
       "            [1 1 1 1]      \n",
       "            [2 0 0 1]      \n",
       "            [0 3 0 2]      \n",
       "            [0 0 6 5]      \n",
       " 0 <-- C_2 <---------- C_1 <-- 0 "
      ]
     },
     "execution_count": 28,
     "metadata": {},
     "output_type": "execute_result"
    }
   ],
   "source": [
    "ascii_art(CC)"
   ]
  }
 ],
 "metadata": {
  "kernelspec": {
   "display_name": "SageMath 10.0",
   "language": "sage",
   "name": "sagemath-10.0"
  },
  "language_info": {
   "codemirror_mode": {
    "name": "ipython",
    "version": 3
   },
   "file_extension": ".py",
   "mimetype": "text/x-python",
   "name": "python",
   "nbconvert_exporter": "python",
   "pygments_lexer": "ipython3",
   "version": "3.11.1"
  }
 },
 "nbformat": 4,
 "nbformat_minor": 5
}
